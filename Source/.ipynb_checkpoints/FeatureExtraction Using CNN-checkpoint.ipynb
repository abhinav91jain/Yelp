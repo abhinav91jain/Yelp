{
 "cells": [
  {
   "cell_type": "code",
   "execution_count": 7,
   "metadata": {},
   "outputs": [],
   "source": [
    "# Imports!\n",
    "import sys\n",
    "import os\n",
    "import numpy as np\n",
    "from skimage.feature import hog\n",
    "from skimage.transform import resize\n",
    "from skimage import io, data, color, exposure\n",
    "import pandas as pd\n",
    "import csv\n",
    "import cv2\n",
    "import tensorflow as tf\n",
    "import tensorflow.python.platform\n",
    "from tensorflow.python.platform import gfile\n",
    "import numpy as np\n",
    " "
   ]
  },
  {
   "cell_type": "code",
   "execution_count": 8,
   "metadata": {},
   "outputs": [],
   "source": [
    "data = pd.read_csv(\"../train_photo_to_biz_ids.csv\")"
   ]
  },
  {
   "cell_type": "code",
   "execution_count": 9,
   "metadata": {
    "scrolled": true
   },
   "outputs": [
    {
     "ename": "FileNotFoundError",
     "evalue": "[WinError 3] The system cannot find the path specified: '../train_photos/'",
     "output_type": "error",
     "traceback": [
      "\u001b[1;31m---------------------------------------------------------------------------\u001b[0m",
      "\u001b[1;31mFileNotFoundError\u001b[0m                         Traceback (most recent call last)",
      "\u001b[1;32m<ipython-input-9-56647c828424>\u001b[0m in \u001b[0;36m<module>\u001b[1;34m()\u001b[0m\n\u001b[1;32m----> 1\u001b[1;33m \u001b[0mtrain_img\u001b[0m \u001b[1;33m=\u001b[0m \u001b[1;33m[\u001b[0m\u001b[0mos\u001b[0m\u001b[1;33m.\u001b[0m\u001b[0mlistdir\u001b[0m\u001b[1;33m(\u001b[0m\u001b[1;34m\"../train_photos/\"\u001b[0m\u001b[1;33m)\u001b[0m\u001b[1;33m]\u001b[0m\u001b[1;33m\u001b[0m\u001b[0m\n\u001b[0m\u001b[0;32m      2\u001b[0m \u001b[0mimage_root\u001b[0m \u001b[1;33m=\u001b[0m \u001b[1;34m\"../train_photos/\"\u001b[0m\u001b[1;33m\u001b[0m\u001b[0m\n",
      "\u001b[1;31mFileNotFoundError\u001b[0m: [WinError 3] The system cannot find the path specified: '../train_photos/'"
     ]
    }
   ],
   "source": [
    "train_img = [os.listdir(\"../train_photos/\")]\n",
    "image_root = \"../train_photos/\""
   ]
  },
  {
   "cell_type": "code",
   "execution_count": 10,
   "metadata": {},
   "outputs": [],
   "source": [
    "# Returns greyscale and resized image\n",
    "def get_image(path):\n",
    "    img = cv2.imread(path, cv2.IMREAD_GRAYSCALE)\n",
    "    if img is not None:\n",
    "        img_resize = cv2.resize(img, (256,256))\n",
    "        return img_resize\n",
    "    return None"
   ]
  },
  {
   "cell_type": "code",
   "execution_count": 11,
   "metadata": {},
   "outputs": [],
   "source": [
    "# https://code.oursky.com/tensorflow-svm-image-classifications-engine/\n",
    "def create_graph(model_path):\n",
    "    \"\"\"\n",
    "    create_graph loads the inception model to memory, should be called before\n",
    "    calling extract_features.\n",
    " \n",
    "    model_path: path to inception model in protobuf form.\n",
    "    \"\"\"\n",
    "    with gfile.FastGFile(model_path, 'rb') as f:\n",
    "        graph_def = tf.GraphDef()\n",
    "        graph_def.ParseFromString(f.read())\n",
    "        _ = tf.import_graph_def(graph_def, name='')"
   ]
  },
  {
   "cell_type": "code",
   "execution_count": 30,
   "metadata": {},
   "outputs": [],
   "source": [
    "# Extracting the bottleneck feature using CNN \n",
    "\n",
    "def get_feature(image_path):\n",
    "    feature_dimension = 2048\n",
    "    with tf.Session() as sess:\n",
    "            flattened_tensor = sess.graph.get_tensor_by_name('pool_3:0')\n",
    "            image_data = gfile.FastGFile(image_path, 'rb').read()\n",
    "            feature = sess.run(flattened_tensor, {\n",
    "                'DecodeJpeg/contents:0': image_data\n",
    "            })\n",
    "            return np.squeeze(feature)"
   ]
  },
  {
   "cell_type": "code",
   "execution_count": 33,
   "metadata": {},
   "outputs": [
    {
     "name": "stdout",
     "output_type": "stream",
     "text": [
      "[[ 0.59947246  0.48093408  0.24425837 ...,  0.41759038  0.07163132\n",
      "   0.17605342]]\n",
      "[ 0.59947246  0.48093408  0.24425837 ...,  0.41759038  0.07163132\n",
      "  0.17605342]\n"
     ]
    }
   ],
   "source": [
    "# get_image_feature(get_image(\"D:\\20150925_124645.jpg\"))\n",
    "create_graph(\"../Inception V3/tensorflow_inception_graph.pb\")\n",
    "# print(get_feature(\"D:\\\\20150925_124645.jpg\"))"
   ]
  },
  {
   "cell_type": "code",
   "execution_count": null,
   "metadata": {},
   "outputs": [],
   "source": [
    "def printCount(cnt):\n",
    "    if cnt==10:\n",
    "        print(\"10 images done!\")\n",
    "    elif cnt ==100:\n",
    "        print(\"100 images done!\")\n",
    "    elif cnt ==500:\n",
    "        print(\"500 images done!\")\n",
    "    elif cnt == 1000:\n",
    "        print(\"1000 images done!\")\n",
    "    elif cnt%10000 == 0:\n",
    "        print(str(cnt)+\" Images Done!\")"
   ]
  },
  {
   "cell_type": "code",
   "execution_count": 8,
   "metadata": {},
   "outputs": [
    {
     "name": "stderr",
     "output_type": "stream",
     "text": [
      "/Users/abhinavjain/anaconda/lib/python3.6/site-packages/skimage/feature/_hog.py:119: skimage_deprecation: Default value of `block_norm`==`L1` is deprecated and will be changed to `L2-Hys` in v0.15\n",
      "  'be changed to `L2-Hys` in v0.15', skimage_deprecation)\n"
     ]
    }
   ],
   "source": [
    "# Extract feature for all images\n",
    "img_features = []\n",
    "with open(r\"../train_data/train_feature.csv\", \"w\") as csv_file:\n",
    "    writer = csv.writer(csv_file, delimiter =\",\",quoting=csv.QUOTE_MINIMAL)\n",
    "    writer.writerow([\"imageid\", \"features\"])\n",
    "    for imageid in data['photo_id']:\n",
    "        img_path = image_root + str(imageid) + \".jpg\"\n",
    "        img = get_image(img_path)\n",
    "        img_feature = get_image_feature(img)\n",
    "        img_feature = img_feature.flatten()\n",
    "        writer.writerow([imageid, img_feature.tolist()])\n",
    "    "
   ]
  }
 ],
 "metadata": {
  "kernelspec": {
   "display_name": "Python 3",
   "language": "python",
   "name": "python3"
  },
  "language_info": {
   "codemirror_mode": {
    "name": "ipython",
    "version": 3
   },
   "file_extension": ".py",
   "mimetype": "text/x-python",
   "name": "python",
   "nbconvert_exporter": "python",
   "pygments_lexer": "ipython3",
   "version": "3.5.4"
  }
 },
 "nbformat": 4,
 "nbformat_minor": 2
}
