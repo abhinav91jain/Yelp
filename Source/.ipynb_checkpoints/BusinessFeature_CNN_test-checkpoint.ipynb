{
 "cells": [
  {
   "cell_type": "markdown",
   "metadata": {},
   "source": [
    "# Business Feature Extraction Using CNN"
   ]
  },
  {
   "cell_type": "code",
   "execution_count": null,
   "metadata": {
    "collapsed": true
   },
   "outputs": [],
   "source": [
    "# Imports\n",
    "import sys\n",
    "import os\n",
    "import numpy as np\n",
    "from skimage.feature import hog\n",
    "from skimage.transform import resize\n",
    "from skimage import io, data, color, exposure\n",
    "import pandas as pd\n",
    "import csv\n",
    "import cv2"
   ]
  },
  {
   "cell_type": "code",
   "execution_count": null,
   "metadata": {
    "collapsed": true
   },
   "outputs": [],
   "source": [
    "#reading csv file\n",
    "data = pd.read_csv(\"../test_photo_to_biz.csv\")\n",
    "#mapping each photos to business id dictionary\n",
    "data_dict=dict()\n",
    "for photo_id, business_id in data.iterrows():\n",
    "        data_dict[business_id.tolist()[0]] = business_id.tolist()[1]"
   ]
  },
  {
   "cell_type": "code",
   "execution_count": null,
   "metadata": {},
   "outputs": [],
   "source": [
    "#reading file chunk by chunk\n",
    "#extracting features for each image\n",
    "#adding it to its business feature \n",
    "#taking mean of each business id feature\n",
    "mean_list=[]\n",
    "cnt = 0\n",
    "chunk_size = 5000\n",
    "mean_vector=dict()\n",
    "mean_counter=dict()\n",
    "for feature_data in pd.read_csv(\"../test_data/test_feature_CNN.csv\", chunksize=chunk_size):\n",
    "    cnt += chunk_size\n",
    "    for imageid,features in feature_data.iterrows():\n",
    "        business_id = data_dict[features.tolist()[0]]\n",
    "        if business_id in mean_vector.keys():\n",
    "            features=np.asarray(features.tolist()[1].replace(\"[\", \"\").replace(\"]\", \"\").split(',')).astype(np.float32)\n",
    "            mean_vector[business_id]=np.add(mean_vector[business_id], features)\n",
    "            mean_counter[business_id] +=1\n",
    "        else:\n",
    "            features=np.asarray(features.tolist()[1].replace(\"[\", \"\").replace(\"]\", \"\").split(',')).astype(np.float32)\n",
    "            mean_vector[business_id]=features\n",
    "            mean_counter[business_id] = 1\n",
    "    if cnt%chunk_size == 0:\n",
    "        print(cnt,\" :done\")\n",
    "for k in mean_vector:\n",
    "    mean_vector[k] /= mean_counter[k]"
   ]
  },
  {
   "cell_type": "code",
   "execution_count": null,
   "metadata": {
    "collapsed": true
   },
   "outputs": [],
   "source": [
    "#writting business feature to file\n",
    "with open(r\"../test_data/bizfeatures_meanfeature_CNN_test.csv\", \"w\") as csv_file:\n",
    "    writer = csv.writer(csv_file, delimiter =\",\",quoting=csv.QUOTE_MINIMAL)\n",
    "    writer.writerow([\"business_id\", \"feature\"])\n",
    "    for key, value in mean_vector.items():\n",
    "        writer.writerow([key, value.tolist()])"
   ]
  }
 ],
 "metadata": {
  "kernelspec": {
   "display_name": "Python 3",
   "language": "python",
   "name": "python3"
  },
  "language_info": {
   "codemirror_mode": {
    "name": "ipython",
    "version": 3
   },
   "file_extension": ".py",
   "mimetype": "text/x-python",
   "name": "python",
   "nbconvert_exporter": "python",
   "pygments_lexer": "ipython3",
   "version": "3.6.1"
  }
 },
 "nbformat": 4,
 "nbformat_minor": 2
}
