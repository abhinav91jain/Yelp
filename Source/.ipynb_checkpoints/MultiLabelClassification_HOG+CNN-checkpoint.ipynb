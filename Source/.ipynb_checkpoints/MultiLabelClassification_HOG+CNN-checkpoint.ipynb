{
 "cells": [
  {
   "cell_type": "markdown",
   "metadata": {},
   "source": [
    "# GENERATE LABELS FOR SPLIT TRAINING DATA"
   ]
  },
  {
   "cell_type": "code",
   "execution_count": 22,
   "metadata": {
    "collapsed": true
   },
   "outputs": [],
   "source": [
    "#imports\n",
    "import csv\n",
    "from sklearn.preprocessing import MultiLabelBinarizer\n",
    "import pandas as pd\n",
    "import numpy as np\n",
    "from sklearn import svm\n",
    "from sklearn.multiclass import OneVsRestClassifier\n",
    "from sklearn.metrics import f1_score\n",
    "from pandas import Series, DataFrame\n",
    "from sklearn.decomposition import PCA\n",
    "from sklearn.preprocessing import StandardScaler\n",
    "from sklearn import datasets, cluster"
   ]
  },
  {
   "cell_type": "code",
   "execution_count": 23,
   "metadata": {
    "collapsed": true
   },
   "outputs": [],
   "source": [
    "#convert string to nparray\n",
    "def str_to_nplist(string):\n",
    "    string = string.replace(\"[\", \"\")\n",
    "    string = string.replace(\"]\", \"\")\n",
    "    string = string.split(',')\n",
    "    return np.asarray(string).astype(np.float32)"
   ]
  },
  {
   "cell_type": "code",
   "execution_count": 24,
   "metadata": {
    "collapsed": true
   },
   "outputs": [],
   "source": [
    "#converting labels to list\n",
    "def convertlabelsfromString(s, ind):\n",
    "    if type(s) == str:\n",
    "        s = s.split(\" \")\n",
    "        s = [int(x) for x in s]\n",
    "        return s\n",
    "    else:\n",
    "        return []"
   ]
  },
  {
   "cell_type": "markdown",
   "metadata": {},
   "source": [
    "## Load Mean Features from HOG and CNN "
   ]
  },
  {
   "cell_type": "code",
   "execution_count": 25,
   "metadata": {
    "collapsed": true
   },
   "outputs": [],
   "source": [
    "#reading csv files\n",
    "train_data_hog = pd.read_csv(\"../train_data/bizfeatures_meanfeature.csv\")\n",
    "train_data_cnn = pd.read_csv(\"../train_data/bizfeatures_meanfeature_CNN.csv\")\n",
    "train_label_df = pd.read_csv('../train.csv')"
   ]
  },
  {
   "cell_type": "code",
   "execution_count": 26,
   "metadata": {
    "scrolled": true
   },
   "outputs": [
    {
     "data": {
      "text/html": [
       "<div>\n",
       "<style>\n",
       "    .dataframe thead tr:only-child th {\n",
       "        text-align: right;\n",
       "    }\n",
       "\n",
       "    .dataframe thead th {\n",
       "        text-align: left;\n",
       "    }\n",
       "\n",
       "    .dataframe tbody tr th {\n",
       "        vertical-align: top;\n",
       "    }\n",
       "</style>\n",
       "<table border=\"1\" class=\"dataframe\">\n",
       "  <thead>\n",
       "    <tr style=\"text-align: right;\">\n",
       "      <th></th>\n",
       "      <th>business_id</th>\n",
       "      <th>feature</th>\n",
       "    </tr>\n",
       "  </thead>\n",
       "  <tbody>\n",
       "    <tr>\n",
       "      <th>0</th>\n",
       "      <td>3034</td>\n",
       "      <td>[5.836266040802002, 1.5250771045684814, 1.1752...</td>\n",
       "    </tr>\n",
       "    <tr>\n",
       "      <th>1</th>\n",
       "      <td>2805</td>\n",
       "      <td>[4.011114597320557, 1.8206619024276733, 1.2678...</td>\n",
       "    </tr>\n",
       "    <tr>\n",
       "      <th>2</th>\n",
       "      <td>485</td>\n",
       "      <td>[4.010666370391846, 1.5894607305526733, 1.1684...</td>\n",
       "    </tr>\n",
       "    <tr>\n",
       "      <th>3</th>\n",
       "      <td>1783</td>\n",
       "      <td>[4.168568134307861, 1.6702979803085327, 1.4907...</td>\n",
       "    </tr>\n",
       "    <tr>\n",
       "      <th>4</th>\n",
       "      <td>35</td>\n",
       "      <td>[3.6683359146118164, 2.228299379348755, 1.5570...</td>\n",
       "    </tr>\n",
       "    <tr>\n",
       "      <th>5</th>\n",
       "      <td>1313</td>\n",
       "      <td>[4.841319561004639, 1.3613338470458984, 1.9253...</td>\n",
       "    </tr>\n",
       "    <tr>\n",
       "      <th>6</th>\n",
       "      <td>2787</td>\n",
       "      <td>[4.257303714752197, 1.9181667566299438, 1.6140...</td>\n",
       "    </tr>\n",
       "    <tr>\n",
       "      <th>7</th>\n",
       "      <td>3216</td>\n",
       "      <td>[3.5591235160827637, 1.3919190168380737, 1.580...</td>\n",
       "    </tr>\n",
       "    <tr>\n",
       "      <th>8</th>\n",
       "      <td>3385</td>\n",
       "      <td>[2.9830636978149414, 2.163705825805664, 1.0030...</td>\n",
       "    </tr>\n",
       "    <tr>\n",
       "      <th>9</th>\n",
       "      <td>2896</td>\n",
       "      <td>[4.059445858001709, 1.5130106210708618, 1.9239...</td>\n",
       "    </tr>\n",
       "    <tr>\n",
       "      <th>10</th>\n",
       "      <td>1193</td>\n",
       "      <td>[3.3962528705596924, 2.101341962814331, 1.1616...</td>\n",
       "    </tr>\n",
       "    <tr>\n",
       "      <th>11</th>\n",
       "      <td>3703</td>\n",
       "      <td>[2.989150047302246, 1.7378655672073364, 2.0908...</td>\n",
       "    </tr>\n",
       "    <tr>\n",
       "      <th>12</th>\n",
       "      <td>3909</td>\n",
       "      <td>[4.503111839294434, 1.8265111446380615, 1.3488...</td>\n",
       "    </tr>\n",
       "    <tr>\n",
       "      <th>13</th>\n",
       "      <td>245</td>\n",
       "      <td>[4.323986053466797, 1.6190415620803833, 1.4058...</td>\n",
       "    </tr>\n",
       "    <tr>\n",
       "      <th>14</th>\n",
       "      <td>1605</td>\n",
       "      <td>[5.117795944213867, 1.659875750541687, 1.54165...</td>\n",
       "    </tr>\n",
       "    <tr>\n",
       "      <th>15</th>\n",
       "      <td>2997</td>\n",
       "      <td>[3.9270429611206055, 1.8298524618148804, 1.665...</td>\n",
       "    </tr>\n",
       "    <tr>\n",
       "      <th>16</th>\n",
       "      <td>3735</td>\n",
       "      <td>[3.837315797805786, 1.3710585832595825, 1.8574...</td>\n",
       "    </tr>\n",
       "    <tr>\n",
       "      <th>17</th>\n",
       "      <td>818</td>\n",
       "      <td>[3.979968547821045, 1.5940099954605103, 1.6076...</td>\n",
       "    </tr>\n",
       "    <tr>\n",
       "      <th>18</th>\n",
       "      <td>3065</td>\n",
       "      <td>[3.430169105529785, 1.5766839981079102, 1.3185...</td>\n",
       "    </tr>\n",
       "    <tr>\n",
       "      <th>19</th>\n",
       "      <td>1160</td>\n",
       "      <td>[4.549554824829102, 1.3676735162734985, 1.3434...</td>\n",
       "    </tr>\n",
       "    <tr>\n",
       "      <th>20</th>\n",
       "      <td>227</td>\n",
       "      <td>[4.033161163330078, 1.5345611572265625, 1.5515...</td>\n",
       "    </tr>\n",
       "    <tr>\n",
       "      <th>21</th>\n",
       "      <td>2762</td>\n",
       "      <td>[4.711556434631348, 1.4723339080810547, 1.5978...</td>\n",
       "    </tr>\n",
       "    <tr>\n",
       "      <th>22</th>\n",
       "      <td>1185</td>\n",
       "      <td>[3.9785776138305664, 1.554180383682251, 1.3747...</td>\n",
       "    </tr>\n",
       "    <tr>\n",
       "      <th>23</th>\n",
       "      <td>3038</td>\n",
       "      <td>[3.0159265995025635, 1.7592518329620361, 2.245...</td>\n",
       "    </tr>\n",
       "    <tr>\n",
       "      <th>24</th>\n",
       "      <td>1735</td>\n",
       "      <td>[4.218769073486328, 1.5697269439697266, 1.6170...</td>\n",
       "    </tr>\n",
       "    <tr>\n",
       "      <th>25</th>\n",
       "      <td>556</td>\n",
       "      <td>[4.131153583526611, 1.88674795627594, 1.820442...</td>\n",
       "    </tr>\n",
       "    <tr>\n",
       "      <th>26</th>\n",
       "      <td>1661</td>\n",
       "      <td>[3.6619112491607666, 1.6296873092651367, 1.112...</td>\n",
       "    </tr>\n",
       "    <tr>\n",
       "      <th>27</th>\n",
       "      <td>1773</td>\n",
       "      <td>[3.9505889415740967, 1.5744874477386475, 1.280...</td>\n",
       "    </tr>\n",
       "    <tr>\n",
       "      <th>28</th>\n",
       "      <td>3382</td>\n",
       "      <td>[2.799605131149292, 2.0159013271331787, 1.7166...</td>\n",
       "    </tr>\n",
       "    <tr>\n",
       "      <th>29</th>\n",
       "      <td>1544</td>\n",
       "      <td>[3.34761643409729, 1.427695870399475, 2.006320...</td>\n",
       "    </tr>\n",
       "    <tr>\n",
       "      <th>...</th>\n",
       "      <td>...</td>\n",
       "      <td>...</td>\n",
       "    </tr>\n",
       "    <tr>\n",
       "      <th>1970</th>\n",
       "      <td>752</td>\n",
       "      <td>[4.341821193695068, 1.8702363967895508, 1.5505...</td>\n",
       "    </tr>\n",
       "    <tr>\n",
       "      <th>1971</th>\n",
       "      <td>2786</td>\n",
       "      <td>[3.8561129570007324, 1.5541110038757324, 1.973...</td>\n",
       "    </tr>\n",
       "    <tr>\n",
       "      <th>1972</th>\n",
       "      <td>2661</td>\n",
       "      <td>[4.749566078186035, 1.8837344646453857, 1.2848...</td>\n",
       "    </tr>\n",
       "    <tr>\n",
       "      <th>1973</th>\n",
       "      <td>3394</td>\n",
       "      <td>[3.2304584980010986, 1.7589937448501587, 2.010...</td>\n",
       "    </tr>\n",
       "    <tr>\n",
       "      <th>1974</th>\n",
       "      <td>3446</td>\n",
       "      <td>[3.8930447101593018, 1.3698980808258057, 1.673...</td>\n",
       "    </tr>\n",
       "    <tr>\n",
       "      <th>1975</th>\n",
       "      <td>698</td>\n",
       "      <td>[3.0438554286956787, 1.817897915840149, 1.1784...</td>\n",
       "    </tr>\n",
       "    <tr>\n",
       "      <th>1976</th>\n",
       "      <td>641</td>\n",
       "      <td>[3.517641544342041, 1.9248281717300415, 1.2057...</td>\n",
       "    </tr>\n",
       "    <tr>\n",
       "      <th>1977</th>\n",
       "      <td>1590</td>\n",
       "      <td>[3.8429882526397705, 1.8652957677841187, 1.715...</td>\n",
       "    </tr>\n",
       "    <tr>\n",
       "      <th>1978</th>\n",
       "      <td>1494</td>\n",
       "      <td>[4.691657543182373, 2.3454935550689697, 1.5859...</td>\n",
       "    </tr>\n",
       "    <tr>\n",
       "      <th>1979</th>\n",
       "      <td>2072</td>\n",
       "      <td>[3.6104607582092285, 1.7845571041107178, 1.593...</td>\n",
       "    </tr>\n",
       "    <tr>\n",
       "      <th>1980</th>\n",
       "      <td>74</td>\n",
       "      <td>[4.4117841720581055, 1.5896326303482056, 1.364...</td>\n",
       "    </tr>\n",
       "    <tr>\n",
       "      <th>1981</th>\n",
       "      <td>2699</td>\n",
       "      <td>[4.701322555541992, 1.5939549207687378, 1.6377...</td>\n",
       "    </tr>\n",
       "    <tr>\n",
       "      <th>1982</th>\n",
       "      <td>71</td>\n",
       "      <td>[3.479048252105713, 1.6197887659072876, 1.4959...</td>\n",
       "    </tr>\n",
       "    <tr>\n",
       "      <th>1983</th>\n",
       "      <td>1502</td>\n",
       "      <td>[5.440389633178711, 1.4076759815216064, 1.3264...</td>\n",
       "    </tr>\n",
       "    <tr>\n",
       "      <th>1984</th>\n",
       "      <td>3730</td>\n",
       "      <td>[4.348109722137451, 1.7273468971252441, 1.9610...</td>\n",
       "    </tr>\n",
       "    <tr>\n",
       "      <th>1985</th>\n",
       "      <td>1670</td>\n",
       "      <td>[4.095156669616699, 1.879441738128662, 1.68539...</td>\n",
       "    </tr>\n",
       "    <tr>\n",
       "      <th>1986</th>\n",
       "      <td>1674</td>\n",
       "      <td>[4.100199222564697, 1.5600037574768066, 1.2398...</td>\n",
       "    </tr>\n",
       "    <tr>\n",
       "      <th>1987</th>\n",
       "      <td>1259</td>\n",
       "      <td>[5.028518199920654, 1.697680115699768, 1.47615...</td>\n",
       "    </tr>\n",
       "    <tr>\n",
       "      <th>1988</th>\n",
       "      <td>456</td>\n",
       "      <td>[4.055531978607178, 1.9253348112106323, 1.4271...</td>\n",
       "    </tr>\n",
       "    <tr>\n",
       "      <th>1989</th>\n",
       "      <td>368</td>\n",
       "      <td>[4.833841323852539, 1.486193060874939, 1.77671...</td>\n",
       "    </tr>\n",
       "    <tr>\n",
       "      <th>1990</th>\n",
       "      <td>759</td>\n",
       "      <td>[4.259380340576172, 1.807799220085144, 1.46204...</td>\n",
       "    </tr>\n",
       "    <tr>\n",
       "      <th>1991</th>\n",
       "      <td>2986</td>\n",
       "      <td>[4.020516395568848, 1.9763860702514648, 1.4904...</td>\n",
       "    </tr>\n",
       "    <tr>\n",
       "      <th>1992</th>\n",
       "      <td>2919</td>\n",
       "      <td>[3.824909210205078, 1.5613046884536743, 2.0966...</td>\n",
       "    </tr>\n",
       "    <tr>\n",
       "      <th>1993</th>\n",
       "      <td>3307</td>\n",
       "      <td>[4.072793006896973, 1.6389172077178955, 1.8948...</td>\n",
       "    </tr>\n",
       "    <tr>\n",
       "      <th>1994</th>\n",
       "      <td>2598</td>\n",
       "      <td>[3.2641067504882812, 1.8159347772598267, 1.417...</td>\n",
       "    </tr>\n",
       "    <tr>\n",
       "      <th>1995</th>\n",
       "      <td>1344</td>\n",
       "      <td>[4.1014323234558105, 1.5877259969711304, 1.433...</td>\n",
       "    </tr>\n",
       "    <tr>\n",
       "      <th>1996</th>\n",
       "      <td>772</td>\n",
       "      <td>[2.513413667678833, 1.5409064292907715, 1.3674...</td>\n",
       "    </tr>\n",
       "    <tr>\n",
       "      <th>1997</th>\n",
       "      <td>407</td>\n",
       "      <td>[4.535557746887207, 2.12669038772583, 1.079458...</td>\n",
       "    </tr>\n",
       "    <tr>\n",
       "      <th>1998</th>\n",
       "      <td>3150</td>\n",
       "      <td>[3.2480180263519287, 1.6002508401870728, 1.557...</td>\n",
       "    </tr>\n",
       "    <tr>\n",
       "      <th>1999</th>\n",
       "      <td>2677</td>\n",
       "      <td>[3.8354921340942383, 1.5255240201950073, 1.777...</td>\n",
       "    </tr>\n",
       "  </tbody>\n",
       "</table>\n",
       "<p>2000 rows × 2 columns</p>\n",
       "</div>"
      ],
      "text/plain": [
       "      business_id                                            feature\n",
       "0            3034  [5.836266040802002, 1.5250771045684814, 1.1752...\n",
       "1            2805  [4.011114597320557, 1.8206619024276733, 1.2678...\n",
       "2             485  [4.010666370391846, 1.5894607305526733, 1.1684...\n",
       "3            1783  [4.168568134307861, 1.6702979803085327, 1.4907...\n",
       "4              35  [3.6683359146118164, 2.228299379348755, 1.5570...\n",
       "5            1313  [4.841319561004639, 1.3613338470458984, 1.9253...\n",
       "6            2787  [4.257303714752197, 1.9181667566299438, 1.6140...\n",
       "7            3216  [3.5591235160827637, 1.3919190168380737, 1.580...\n",
       "8            3385  [2.9830636978149414, 2.163705825805664, 1.0030...\n",
       "9            2896  [4.059445858001709, 1.5130106210708618, 1.9239...\n",
       "10           1193  [3.3962528705596924, 2.101341962814331, 1.1616...\n",
       "11           3703  [2.989150047302246, 1.7378655672073364, 2.0908...\n",
       "12           3909  [4.503111839294434, 1.8265111446380615, 1.3488...\n",
       "13            245  [4.323986053466797, 1.6190415620803833, 1.4058...\n",
       "14           1605  [5.117795944213867, 1.659875750541687, 1.54165...\n",
       "15           2997  [3.9270429611206055, 1.8298524618148804, 1.665...\n",
       "16           3735  [3.837315797805786, 1.3710585832595825, 1.8574...\n",
       "17            818  [3.979968547821045, 1.5940099954605103, 1.6076...\n",
       "18           3065  [3.430169105529785, 1.5766839981079102, 1.3185...\n",
       "19           1160  [4.549554824829102, 1.3676735162734985, 1.3434...\n",
       "20            227  [4.033161163330078, 1.5345611572265625, 1.5515...\n",
       "21           2762  [4.711556434631348, 1.4723339080810547, 1.5978...\n",
       "22           1185  [3.9785776138305664, 1.554180383682251, 1.3747...\n",
       "23           3038  [3.0159265995025635, 1.7592518329620361, 2.245...\n",
       "24           1735  [4.218769073486328, 1.5697269439697266, 1.6170...\n",
       "25            556  [4.131153583526611, 1.88674795627594, 1.820442...\n",
       "26           1661  [3.6619112491607666, 1.6296873092651367, 1.112...\n",
       "27           1773  [3.9505889415740967, 1.5744874477386475, 1.280...\n",
       "28           3382  [2.799605131149292, 2.0159013271331787, 1.7166...\n",
       "29           1544  [3.34761643409729, 1.427695870399475, 2.006320...\n",
       "...           ...                                                ...\n",
       "1970          752  [4.341821193695068, 1.8702363967895508, 1.5505...\n",
       "1971         2786  [3.8561129570007324, 1.5541110038757324, 1.973...\n",
       "1972         2661  [4.749566078186035, 1.8837344646453857, 1.2848...\n",
       "1973         3394  [3.2304584980010986, 1.7589937448501587, 2.010...\n",
       "1974         3446  [3.8930447101593018, 1.3698980808258057, 1.673...\n",
       "1975          698  [3.0438554286956787, 1.817897915840149, 1.1784...\n",
       "1976          641  [3.517641544342041, 1.9248281717300415, 1.2057...\n",
       "1977         1590  [3.8429882526397705, 1.8652957677841187, 1.715...\n",
       "1978         1494  [4.691657543182373, 2.3454935550689697, 1.5859...\n",
       "1979         2072  [3.6104607582092285, 1.7845571041107178, 1.593...\n",
       "1980           74  [4.4117841720581055, 1.5896326303482056, 1.364...\n",
       "1981         2699  [4.701322555541992, 1.5939549207687378, 1.6377...\n",
       "1982           71  [3.479048252105713, 1.6197887659072876, 1.4959...\n",
       "1983         1502  [5.440389633178711, 1.4076759815216064, 1.3264...\n",
       "1984         3730  [4.348109722137451, 1.7273468971252441, 1.9610...\n",
       "1985         1670  [4.095156669616699, 1.879441738128662, 1.68539...\n",
       "1986         1674  [4.100199222564697, 1.5600037574768066, 1.2398...\n",
       "1987         1259  [5.028518199920654, 1.697680115699768, 1.47615...\n",
       "1988          456  [4.055531978607178, 1.9253348112106323, 1.4271...\n",
       "1989          368  [4.833841323852539, 1.486193060874939, 1.77671...\n",
       "1990          759  [4.259380340576172, 1.807799220085144, 1.46204...\n",
       "1991         2986  [4.020516395568848, 1.9763860702514648, 1.4904...\n",
       "1992         2919  [3.824909210205078, 1.5613046884536743, 2.0966...\n",
       "1993         3307  [4.072793006896973, 1.6389172077178955, 1.8948...\n",
       "1994         2598  [3.2641067504882812, 1.8159347772598267, 1.417...\n",
       "1995         1344  [4.1014323234558105, 1.5877259969711304, 1.433...\n",
       "1996          772  [2.513413667678833, 1.5409064292907715, 1.3674...\n",
       "1997          407  [4.535557746887207, 2.12669038772583, 1.079458...\n",
       "1998         3150  [3.2480180263519287, 1.6002508401870728, 1.557...\n",
       "1999         2677  [3.8354921340942383, 1.5255240201950073, 1.777...\n",
       "\n",
       "[2000 rows x 2 columns]"
      ]
     },
     "execution_count": 26,
     "metadata": {},
     "output_type": "execute_result"
    }
   ],
   "source": [
    "train_data_cnn"
   ]
  },
  {
   "cell_type": "markdown",
   "metadata": {},
   "source": [
    "## Create a new feature vector using HOG and CNN"
   ]
  },
  {
   "cell_type": "code",
   "execution_count": 27,
   "metadata": {
    "collapsed": true
   },
   "outputs": [],
   "source": [
    "train_data = pd.DataFrame({'business_id': [], 'feature': []})"
   ]
  },
  {
   "cell_type": "code",
   "execution_count": 28,
   "metadata": {
    "collapsed": true,
    "scrolled": false
   },
   "outputs": [],
   "source": [
    "train_data['business_id'] = train_data_hog['business_id']\n",
    "train_data['feature'] = Series(train_data_hog['feature']).str.cat(train_data_cnn['feature'], sep=',')"
   ]
  },
  {
   "cell_type": "code",
   "execution_count": 29,
   "metadata": {},
   "outputs": [
    {
     "data": {
      "text/plain": [
       "array([ 0.14311211,  0.07906874,  0.12857224, ...,  1.4460386 ,\n",
       "        0.09451302,  1.69940174], dtype=float32)"
      ]
     },
     "execution_count": 29,
     "metadata": {},
     "output_type": "execute_result"
    }
   ],
   "source": [
    "str_to_nplist(train_data['feature'][0])"
   ]
  },
  {
   "cell_type": "code",
   "execution_count": 30,
   "metadata": {
    "collapsed": true
   },
   "outputs": [],
   "source": [
    "train_data = train_data.sort_values(by='business_id')\n",
    "train_label_df = train_label_df.sort_values(by='business_id')"
   ]
  },
  {
   "cell_type": "code",
   "execution_count": 31,
   "metadata": {
    "collapsed": true
   },
   "outputs": [],
   "source": [
    "mean_features = np.asarray([str_to_nplist(i) for i in train_data['feature']])\n",
    "labels = train_label_df['labels'].values"
   ]
  },
  {
   "cell_type": "markdown",
   "metadata": {},
   "source": [
    "## Using dimensionality reduction"
   ]
  },
  {
   "cell_type": "code",
   "execution_count": 32,
   "metadata": {},
   "outputs": [
    {
     "name": "stdout",
     "output_type": "stream",
     "text": [
      "(2000, 4096)\n",
      "(2000, 2000)\n"
     ]
    }
   ],
   "source": [
    "print(mean_features.shape)\n",
    "pca = PCA(n_components=2048)\n",
    "X_new = pca.fit_transform(mean_features) \n",
    "print(X_new.shape)"
   ]
  },
  {
   "cell_type": "code",
   "execution_count": 47,
   "metadata": {
    "collapsed": true
   },
   "outputs": [],
   "source": [
    "#randomly breaking the dataset into 80:20 ratio for training and testing\n",
    "msk = np.random.rand(len(mean_features)) < 0.8\n",
    "mean_features_train = X_new[msk]\n",
    "mean_features_test = X_new[~msk]\n",
    "label_train_new_model = labels[msk]\n",
    "label_test_new_model = labels[~msk]"
   ]
  },
  {
   "cell_type": "code",
   "execution_count": 48,
   "metadata": {
    "collapsed": true
   },
   "outputs": [],
   "source": [
    "X = mean_features_train\n",
    "Y = label_train_new_model\n",
    "label_binarizer = MultiLabelBinarizer()"
   ]
  },
  {
   "cell_type": "code",
   "execution_count": 49,
   "metadata": {
    "collapsed": true
   },
   "outputs": [],
   "source": [
    "Y = [convertlabelsfromString(Y[i],i) for i in range(Y.shape[0])]\n",
    "Y = label_binarizer.fit_transform(Y)"
   ]
  },
  {
   "cell_type": "code",
   "execution_count": 50,
   "metadata": {
    "collapsed": true
   },
   "outputs": [],
   "source": [
    "classifier = OneVsRestClassifier(svm.SVC(kernel='linear'))\n",
    "classifier.fit(X, Y)\n",
    "prediction = classifier.predict(mean_features_test)"
   ]
  },
  {
   "cell_type": "code",
   "execution_count": 51,
   "metadata": {
    "collapsed": true
   },
   "outputs": [],
   "source": [
    "values = label_binarizer.inverse_transform(prediction)\n",
    "inv_values = label_binarizer.fit_transform(values)"
   ]
  },
  {
   "cell_type": "code",
   "execution_count": 52,
   "metadata": {
    "collapsed": true
   },
   "outputs": [],
   "source": [
    "Y1 = [convertlabelsfromString(label_test_new_model[i],i) for i in range(label_test_new_model.shape[0])]\n",
    "Y1 = label_binarizer.fit_transform(Y1)"
   ]
  },
  {
   "cell_type": "code",
   "execution_count": 53,
   "metadata": {},
   "outputs": [
    {
     "data": {
      "text/plain": [
       "0.78279055870929204"
      ]
     },
     "execution_count": 53,
     "metadata": {},
     "output_type": "execute_result"
    }
   ],
   "source": [
    "f1_score(Y1,inv_values,average='micro')"
   ]
  },
  {
   "cell_type": "markdown",
   "metadata": {},
   "source": [
    "## GENERATE LABELS FOR TEST DATA"
   ]
  },
  {
   "cell_type": "code",
   "execution_count": null,
   "metadata": {
    "collapsed": true
   },
   "outputs": [],
   "source": [
    "test_data = pd.DataFrame({'business_id': [], 'feature': []})\n",
    "test_data_hog = pd.read_csv(\"../test_data/bizfeaturestest_meanfeature.csv\")\n",
    "test_data_cnn = pd.read_csv(\"../test_data/bizfeatures_meanfeature_CNN_test.csv\")"
   ]
  },
  {
   "cell_type": "code",
   "execution_count": null,
   "metadata": {
    "collapsed": true
   },
   "outputs": [],
   "source": [
    "test_data['business_id'] = test_data_hog['business_id']\n",
    "test_data['feature'] = Series(test_data_hog['feature']).str.cat(test_data_cnn['feature'], sep=',')"
   ]
  },
  {
   "cell_type": "code",
   "execution_count": 199,
   "metadata": {
    "collapsed": true
   },
   "outputs": [],
   "source": [
    "mean_features_train = np.asarray([str_to_nplist(i) for i in train_data['feature']])\n",
    "labels_train = train_label_df['labels'].values\n",
    "mean_features_test = np.asarray([str_to_nplist(i) for i in test_data['feature']])"
   ]
  },
  {
   "cell_type": "markdown",
   "metadata": {},
   "source": [
    "### Use the model to generate labels"
   ]
  },
  {
   "cell_type": "code",
   "execution_count": 202,
   "metadata": {},
   "outputs": [
    {
     "name": "stdout",
     "output_type": "stream",
     "text": [
      "(2000, 2048)\n",
      "(2000, 2000)\n"
     ]
    }
   ],
   "source": [
    "X = mean_features\n",
    "l_X = len(X)\n",
    "X_test = test_mean_data\n",
    "l_X_test = len(X_test)\n",
    "print(X_test.shape)\n",
    "X_new = np.vstack(X,X_test)\n",
    "X_test_pca = pca.fit_transform(X_new)\n",
    "Y = labels_train\n",
    "label_binarizer = MultiLabelBinarizer()\n",
    "print(X_test_pca.shape)\n",
    "X_pca = X_test[:l_X][:]\n",
    "X_test_pca = X_test[l_X+1:][:]"
   ]
  },
  {
   "cell_type": "code",
   "execution_count": null,
   "metadata": {
    "collapsed": true
   },
   "outputs": [],
   "source": [
    "Y = [convertlabelsfromString(Y[i],i) for i in range(Y.shape[0])]\n",
    "Y = label_binarizer.fit_transform(Y)"
   ]
  },
  {
   "cell_type": "code",
   "execution_count": null,
   "metadata": {
    "collapsed": true
   },
   "outputs": [],
   "source": [
    "classifier = OneVsRestClassifier(svm.SVC(kernel='linear'))\n",
    "classifier.fit(X_pca, Y)\n",
    "prediction = classifier.predict(X_test_pca)"
   ]
  },
  {
   "cell_type": "code",
   "execution_count": null,
   "metadata": {
    "collapsed": true
   },
   "outputs": [],
   "source": [
    "values = label_binarizer.inverse_transform(prediction)\n",
    "inv_values = label_binarizer.fit_transform(values)"
   ]
  },
  {
   "cell_type": "code",
   "execution_count": null,
   "metadata": {
    "collapsed": true
   },
   "outputs": [],
   "source": []
  }
 ],
 "metadata": {
  "kernelspec": {
   "display_name": "Python 3",
   "language": "python",
   "name": "python3"
  },
  "language_info": {
   "codemirror_mode": {
    "name": "ipython",
    "version": 3
   },
   "file_extension": ".py",
   "mimetype": "text/x-python",
   "name": "python",
   "nbconvert_exporter": "python",
   "pygments_lexer": "ipython3",
   "version": "3.6.1"
  }
 },
 "nbformat": 4,
 "nbformat_minor": 2
}
