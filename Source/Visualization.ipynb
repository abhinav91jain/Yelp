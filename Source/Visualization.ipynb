{
 "cells": [
  {
   "cell_type": "code",
   "execution_count": 1,
   "metadata": {
    "collapsed": true
   },
   "outputs": [],
   "source": [
    "#imports\n",
    "import matplotlib.pyplot as plt\n",
    "import csv\n",
    "import pandas as pd\n",
    "import numpy as np"
   ]
  },
  {
   "cell_type": "code",
   "execution_count": 4,
   "metadata": {},
   "outputs": [
    {
     "data": {
      "image/png": "[encoded data removed]",
      "text/plain": [
       "<matplotlib.figure.Figure at 0x114ffda20>"
      ]
     },
     "metadata": {},
     "output_type": "display_data"
    }
   ],
   "source": [
    "#reading data\n",
    "data = pd.read_csv(\"train.csv\")\n",
    "data = data.dropna()\n",
    "\n",
    "#converting it to dictionary for count\n",
    "d = dict()\n",
    "for index, row in data.iterrows():\n",
    "    s = row[1].split(\" \")\n",
    "    for i in range(0,len(s)):\n",
    "        if s[i] in d.keys():\n",
    "            d[s[i]] += 1\n",
    "        else:\n",
    "            d[s[i]] = 1\n",
    "\n",
    "#taking values from dictionary in sorted order\n",
    "a = []\n",
    "b = []\n",
    "for key, value in sorted(d.items()):\n",
    "    a.append(key)\n",
    "    b.append(value)\n",
    "\n",
    "a = np.array(a)\n",
    "b = np.array(b)\n",
    "\n",
    "#plotting the graph\n",
    "N = len(a)\n",
    "business_count = b\n",
    "\n",
    "ind = np.arange(N)  # the x locations for the groups\n",
    "width = 0.5       # the width of the bars\n",
    "\n",
    "fig, ax = plt.subplots()\n",
    "rects1 = ax.bar(ind, business_count, width, color='r')\n",
    "ax.set_ylabel('Business ID Count')\n",
    "ax.set_xlabel('Labels')\n",
    "ax.set_xticks(ind + width / 32)\n",
    "ax.set_xticklabels(a)\n",
    "plt.show()"
   ]
  },
  {
   "cell_type": "code",
   "execution_count": 6,
   "metadata": {},
   "outputs": [
    {
     "data": {
      "image/png": "[encoded data removed]",
      "text/plain": [
       "<matplotlib.figure.Figure at 0x11a87c8d0>"
      ]
     },
     "metadata": {},
     "output_type": "display_data"
    }
   ],
   "source": [
    "#reading the data\n",
    "biz_data = pd.read_csv(\"../train_photo_to_biz_ids.csv\")\n",
    "a = np.array(biz_data['business_id'].unique())\n",
    "a = sorted(a)\n",
    "\n",
    "#counting the images per business id\n",
    "z = []\n",
    "x = []\n",
    "for i in range(0,len(a)):\n",
    "    x.append(a[i])\n",
    "    y = biz_data.loc[biz_data['business_id'] == a[i], 'photo_id'].count()\n",
    "    z.append(y)\n",
    "\n",
    "x = np.array(x)\n",
    "z = np.array(z)\n",
    "\n",
    "#plotting the graph\n",
    "N = len(x)\n",
    "images_count = z\n",
    "\n",
    "ind = np.arange(N)  # the x locations for the groups\n",
    "width = 0.5       # the width of the bars\n",
    "\n",
    "fig, ax = plt.subplots()\n",
    "rects1 = ax.bar(ind, images_count, width, color='r')\n",
    "ax.set_ylabel('Images Count')\n",
    "ax.set_xlabel('Business Id')\n",
    "ax.set_xticks(ind + width / 32)\n",
    "ax.set_xticklabels(a)\n",
    "fig = plt.gcf()\n",
    "fig.set_size_inches(16.5, 5.5)\n",
    "plt.show()"
   ]
  },
  {
   "cell_type": "code",
   "execution_count": 7,
   "metadata": {},
   "outputs": [
    {
     "data": {
      "image/png": "[encoded data removed]",
      "text/plain": [
       "<matplotlib.figure.Figure at 0x116b17a20>"
      ]
     },
     "metadata": {},
     "output_type": "display_data"
    }
   ],
   "source": [
    "#reading the test data\n",
    "biz_data = pd.read_csv(\"../test_photo_to_biz.csv\")\n",
    "a = np.array(biz_data['business_id'].unique())\n",
    "a = sorted(a)\n",
    "\n",
    "#counting the test images per business id\n",
    "z = []\n",
    "x = []\n",
    "for i in range(0,len(a)):\n",
    "    x.append(a[i])\n",
    "    y = biz_data.loc[biz_data['business_id'] == a[i], 'photo_id'].count()\n",
    "    z.append(y)\n",
    "\n",
    "x = np.array(x)\n",
    "z = np.array(z)\n",
    "\n",
    "#plotting the graph\n",
    "N = len(x)\n",
    "images_count = z\n",
    "\n",
    "ind = np.arange(N)  # the x locations for the groups\n",
    "width = 0.5       # the width of the bars\n",
    "\n",
    "fig, ax = plt.subplots()\n",
    "rects1 = ax.bar(ind, images_count, width, color='b')\n",
    "ax.set_ylabel('Images Count')\n",
    "ax.set_xlabel('Business Id')\n",
    "ax.set_xticks(ind + width / 32)\n",
    "ax.set_xticklabels(a)\n",
    "fig = plt.gcf()\n",
    "fig.set_size_inches(16.5, 3.5)\n",
    "plt.show()"
   ]
  }
 ],
 "metadata": {
  "kernelspec": {
   "display_name": "Python 3",
   "language": "python",
   "name": "python3"
  },
  "language_info": {
   "codemirror_mode": {
    "name": "ipython",
    "version": 3
   },
   "file_extension": ".py",
   "mimetype": "text/x-python",
   "name": "python",
   "nbconvert_exporter": "python",
   "pygments_lexer": "ipython3",
   "version": "3.6.1"
  }
 },
 "nbformat": 4,
 "nbformat_minor": 2
}
