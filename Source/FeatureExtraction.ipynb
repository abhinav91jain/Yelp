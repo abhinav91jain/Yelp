{
 "cells": [
  {
   "cell_type": "code",
   "execution_count": 2,
   "metadata": {
    "collapsed": true
   },
   "outputs": [],
   "source": [
    "# Imports!\n",
    "import sys\n",
    "import os\n",
    "import numpy as np\n",
    "from skimage.feature import hog\n",
    "from skimage.transform import resize\n",
    "from skimage import io, data, color, exposure\n",
    "import pandas as pd\n",
    "import csv\n",
    "import cv2"
   ]
  },
  {
   "cell_type": "code",
   "execution_count": 3,
   "metadata": {
    "collapsed": true
   },
   "outputs": [],
   "source": [
    "data = pd.read_csv(\"../train_photo_to_biz_ids.csv\")"
   ]
  },
  {
   "cell_type": "code",
   "execution_count": 4,
   "metadata": {
    "collapsed": true
   },
   "outputs": [],
   "source": [
    "train_img = [os.listdir(\"../train_photos/\")]\n",
    "image_root = \"../train_photos/\""
   ]
  },
  {
   "cell_type": "code",
   "execution_count": 5,
   "metadata": {
    "collapsed": true
   },
   "outputs": [],
   "source": [
    "# Returns greyscale and resized image\n",
    "def get_image(path):\n",
    "    img = cv2.imread(path, cv2.IMREAD_GRAYSCALE)\n",
    "    if img is not None:\n",
    "        img_resize = cv2.resize(img, (256,256))\n",
    "        return img_resize\n",
    "    return None"
   ]
  },
  {
   "cell_type": "code",
   "execution_count": 6,
   "metadata": {
    "collapsed": true
   },
   "outputs": [],
   "source": [
    "# Extract feature using Histogram of gradients \n",
    "def get_image_feature(img):\n",
    "    return hog(img,orientations=8,pixels_per_cell=(16,16),cells_per_block=(1,1)) "
   ]
  },
  {
   "cell_type": "code",
   "execution_count": 7,
   "metadata": {
    "collapsed": true
   },
   "outputs": [],
   "source": [
    "def printCount(cnt):\n",
    "    if cnt==10:\n",
    "        print(\"10 images done!\")\n",
    "    elif cnt ==100:\n",
    "        print(\"100 images done!\")\n",
    "    elif cnt ==500:\n",
    "        print(\"500 images done!\")\n",
    "    elif cnt == 1000:\n",
    "        print(\"1000 images done!\")\n",
    "    elif cnt%10000 == 0:\n",
    "        print(str(cnt)+\" Images Done!\")"
   ]
  },
  {
   "cell_type": "code",
   "execution_count": 8,
   "metadata": {},
   "outputs": [
    {
     "name": "stderr",
     "output_type": "stream",
     "text": [
      "/Users/abhinavjain/anaconda/lib/python3.6/site-packages/skimage/feature/_hog.py:119: skimage_deprecation: Default value of `block_norm`==`L1` is deprecated and will be changed to `L2-Hys` in v0.15\n",
      "  'be changed to `L2-Hys` in v0.15', skimage_deprecation)\n"
     ]
    }
   ],
   "source": [
    "# Extract feature for all images\n",
    "img_features = []\n",
    "with open(r\"../train_data/train_feature.csv\", \"w\") as csv_file:\n",
    "    writer = csv.writer(csv_file, delimiter =\",\",quoting=csv.QUOTE_MINIMAL)\n",
    "    writer.writerow([\"imageid\", \"features\"])\n",
    "    for imageid in data['photo_id']:\n",
    "        img_path = image_root + str(imageid) + \".jpg\"\n",
    "        img = get_image(img_path)\n",
    "        img_feature = get_image_feature(img)\n",
    "        img_feature = img_feature.flatten()\n",
    "        writer.writerow([imageid, img_feature.tolist()])\n",
    "    "
   ]
  },
  {
   "cell_type": "code",
   "execution_count": 37,
   "metadata": {},
   "outputs": [],
   "source": [
    "feature_data= pd.read_csv(\"../train_data/train_feature.csv\")\n",
    "businessid=set(data['business_id'])\n",
    "mean_list=[]\n",
    "for photo_id, business_id in data.iterrows():\n",
    "    for imageid,features in feature_data.iterrows():\n",
    "        if(photo_id==imageid):\n",
    "            mean_list.append((business_id[1],features[1].replace(\"[\",\"\").replace(\"]\",\"\").split(\",\")))"
   ]
  },
  {
   "cell_type": "code",
   "execution_count": 33,
   "metadata": {},
   "outputs": [
    {
     "name": "stdout",
     "output_type": "stream",
     "text": [
      "     imageid                                           features\n",
      "0     204149  [0.3137715911347179, 0.11230169442833099, 0.01...\n",
      "1      52779  [0.3636484911903218, 0.08151229728626108, 0.01...\n",
      "2     278973  [0.005773535290590795, 0.0019462075649765312, ...\n",
      "3     195284  [0.12524098856133928, 0.0726946980904043, 0.12...\n",
      "4      19992  [0.1193150707995903, 0.10316861222240664, 0.08...\n",
      "5      80748  [0.10449546590380095, 0.024222251149317572, 0....\n",
      "6     444996  [0.04098321382620795, 0.03555054705173901, 0.0...\n",
      "7     200285  [0.11522041311192004, 0.21331643362233738, 0.1...\n",
      "8      90572  [0.15910772820996702, 0.03767362927529191, 0.1...\n",
      "9      27565  [0.06578933982594341, 0.1512314670725097, 0.09...\n",
      "10    228371  [0.012428031908195759, 0.02795119763612656, 0....\n",
      "11    166925  [0.16567259254254468, 0.1876871769094216, 0.08...\n",
      "12    310868  [0.0, 0.0, 0.0, 0.0, 0.998296241081887, 0.0, 0...\n",
      "13     13318  [0.41367885555523665, 0.11706118777163947, 0.0...\n",
      "14    290904  [0.08624162323642368, 0.04322258570008323, 0.1...\n",
      "15     71940  [0.09882362125402419, 0.13616776234952827, 0.2...\n",
      "16    211449  [0.04724315528639368, 0.011597500787290367, 0....\n",
      "17    368909  [0.09685718892319196, 0.12219932657857403, 0.1...\n",
      "18    118126  [0.10492006796594067, 0.06404717306986263, 0.1...\n",
      "19    188137  [0.2997780730835531, 0.5597052641019999, 0.085...\n",
      "20     12355  [0.4713777547514662, 0.04042977325246675, 0.03...\n",
      "21    232115  [0.004964074870936228, 0.000982691627892823, 0...\n",
      "22    208176  [0.08429704692935996, 0.20045761094600775, 0.1...\n",
      "23    362562  [0.11441735116806173, 0.026690316282257598, 0....\n",
      "24    244500  [0.03187260621704132, 0.05794503436056473, 0.3...\n",
      "25     18589  [0.0, 0.0, 0.0, 0.0, 0.0, 0.0, 0.0, 0.0, 0.0, ...\n",
      "26    186937  [0.09391938294634908, 0.08039576201217997, 0.1...\n",
      "27     14826  [0.03935928248320698, 0.04589930412025816, 0.0...\n",
      "28    156728  [0.24439351652489932, 0.13925439434396913, 0.1...\n",
      "29    444034  [0.24808007366759838, 0.09354707279954914, 0.1...\n",
      "..       ...                                                ...\n",
      "970   440885  [0.6438107153166875, 0.06066913884032455, 0.02...\n",
      "971   251940  [0.41489338782412, 0.07596833973231135, 0.0668...\n",
      "972   194757  [0.26939901452863163, 0.14567692956084582, 0.2...\n",
      "973    97186  [0.4607164971287028, 0.0892715465410686, 0.055...\n",
      "974    98470  [0.7215884789653955, 0.025357246741758842, 0.0...\n",
      "975    23904  [0.4092386082150596, 0.04066155137957386, 0.05...\n",
      "976   259637  [0.05940378028827757, 0.11195234183032864, 0.0...\n",
      "977   337802  [0.15939129762333476, 0.12171276984838449, 0.0...\n",
      "978   426660  [0.18196510666996835, 0.08395805077594148, 0.1...\n",
      "979   280210  [0.14891860036945545, 0.192415201749619, 0.148...\n",
      "980   140178  [0.04668030576500529, 0.01064507935983501, 0.0...\n",
      "981   234480  [0.15197750564120863, 0.1817319344093305, 0.37...\n",
      "982    91245  [0.09817190535117441, 0.10189445654666232, 0.1...\n",
      "983   236607  [0.1120571672997265, 0.05158741322765979, 0.11...\n",
      "984   422754  [0.3534734077301715, 0.012734298114461966, 0.0...\n",
      "985    98526  [0.17250483263424626, 0.0012259984718553721, 0...\n",
      "986     6177  [0.15901133844841114, 0.31196823868992807, 0.1...\n",
      "987    47467  [0.16223489337928454, 0.08164803413066879, 0.1...\n",
      "988   145761  [0.20530714917986548, 0.048544732976325077, 0....\n",
      "989   266586  [0.16201827563999163, 0.08744773956605138, 0.1...\n",
      "990   296381  [0.0, 0.0, 0.0, 0.0, 0.0, 0.0, 0.0, 0.0, 0.0, ...\n",
      "991   369771  [0.02209338401363269, 0.07587957799083424, 0.4...\n",
      "992   272772  [0.2952033039819699, 0.07136158535976916, 0.20...\n",
      "993   451763  [0.06902424689436518, 0.05208605438237994, 0.0...\n",
      "994   245775  [0.2024266416665899, 0.05619996628989251, 0.06...\n",
      "995    32520  [0.0, 0.0, 0.0, 0.0, 0.0, 0.0, 0.0, 0.0, 0.0, ...\n",
      "996   196062  [0.21034752125063466, 0.12206805004279203, 0.2...\n",
      "997   232337  [0.21114561924748626, 0.04201193390076282, 0.0...\n",
      "998   347792  [0.032806058137626715, 0.08460592415534225, 0....\n",
      "999   415755  [0.005903168182222689, 0.005957916273812743, 0...\n",
      "\n",
      "[1000 rows x 2 columns]\n"
     ]
    }
   ],
   "source": [
    "for chunk in pd.read_csv(\"../train_data/train_feature.csv\", chunksize=1000):\n",
    "    print (chunk)\n",
    "    chunk.to_csv(\"out.csv\", index=False)\n",
    "    break\n"
   ]
  },
  {
   "cell_type": "code",
   "execution_count": null,
   "metadata": {
    "collapsed": true
   },
   "outputs": [],
   "source": []
  }
 ],
 "metadata": {
  "kernelspec": {
   "display_name": "Python 3",
   "language": "python",
   "name": "python3"
  },
  "language_info": {
   "codemirror_mode": {
    "name": "ipython",
    "version": 3
   },
   "file_extension": ".py",
   "mimetype": "text/x-python",
   "name": "python",
   "nbconvert_exporter": "python",
   "pygments_lexer": "ipython3",
   "version": "3.6.1"
  }
 },
 "nbformat": 4,
 "nbformat_minor": 2
}
