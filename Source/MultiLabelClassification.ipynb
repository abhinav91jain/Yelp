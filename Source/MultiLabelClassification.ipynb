{
 "cells": [
  {
   "cell_type": "code",
   "execution_count": 79,
   "metadata": {},
   "outputs": [],
   "source": [
    "import csv\n",
    "from sklearn.preprocessing import MultiLabelBinarizer\n",
    "import pandas as pd\n",
    "import numpy as np\n",
    "from sklearn import svm\n",
    "from sklearn.multiclass import OneVsRestClassifier\n",
    "from sklearn.metrics import f1_score"
   ]
  },
  {
   "cell_type": "code",
   "execution_count": 6,
   "metadata": {
    "collapsed": true
   },
   "outputs": [],
   "source": [
    "df = pd.read_csv('../train_data/bizfeatures_meanfeature.csv')\n",
    "label_df = pd.read_csv('train.csv')"
   ]
  },
  {
   "cell_type": "code",
   "execution_count": 8,
   "metadata": {},
   "outputs": [
    {
     "data": {
      "text/html": [
       "<div>\n",
       "<style>\n",
       "    .dataframe thead tr:only-child th {\n",
       "        text-align: right;\n",
       "    }\n",
       "\n",
       "    .dataframe thead th {\n",
       "        text-align: left;\n",
       "    }\n",
       "\n",
       "    .dataframe tbody tr th {\n",
       "        vertical-align: top;\n",
       "    }\n",
       "</style>\n",
       "<table border=\"1\" class=\"dataframe\">\n",
       "  <thead>\n",
       "    <tr style=\"text-align: right;\">\n",
       "      <th></th>\n",
       "      <th>business_id</th>\n",
       "      <th>feature</th>\n",
       "    </tr>\n",
       "  </thead>\n",
       "  <tbody>\n",
       "    <tr>\n",
       "      <th>1040</th>\n",
       "      <td>3</td>\n",
       "      <td>[0.15115895867347717, 0.0732259601354599, 0.11...</td>\n",
       "    </tr>\n",
       "    <tr>\n",
       "      <th>1456</th>\n",
       "      <td>4</td>\n",
       "      <td>[0.1477070301771164, 0.06797164678573608, 0.13...</td>\n",
       "    </tr>\n",
       "    <tr>\n",
       "      <th>342</th>\n",
       "      <td>5</td>\n",
       "      <td>[0.1602800190448761, 0.08416581153869629, 0.15...</td>\n",
       "    </tr>\n",
       "    <tr>\n",
       "      <th>347</th>\n",
       "      <td>6</td>\n",
       "      <td>[0.12783241271972656, 0.09045923501253128, 0.1...</td>\n",
       "    </tr>\n",
       "    <tr>\n",
       "      <th>1441</th>\n",
       "      <td>7</td>\n",
       "      <td>[0.15980949997901917, 0.07771550118923187, 0.1...</td>\n",
       "    </tr>\n",
       "    <tr>\n",
       "      <th>154</th>\n",
       "      <td>8</td>\n",
       "      <td>[0.167060986161232, 0.05579552799463272, 0.133...</td>\n",
       "    </tr>\n",
       "    <tr>\n",
       "      <th>799</th>\n",
       "      <td>9</td>\n",
       "      <td>[0.16387687623500824, 0.08138040453195572, 0.1...</td>\n",
       "    </tr>\n",
       "    <tr>\n",
       "      <th>1360</th>\n",
       "      <td>12</td>\n",
       "      <td>[0.12542682886123657, 0.0736740306019783, 0.13...</td>\n",
       "    </tr>\n",
       "    <tr>\n",
       "      <th>781</th>\n",
       "      <td>13</td>\n",
       "      <td>[0.1405954211950302, 0.0837753415107727, 0.115...</td>\n",
       "    </tr>\n",
       "    <tr>\n",
       "      <th>1012</th>\n",
       "      <td>14</td>\n",
       "      <td>[0.16205096244812012, 0.07431483268737793, 0.1...</td>\n",
       "    </tr>\n",
       "    <tr>\n",
       "      <th>940</th>\n",
       "      <td>16</td>\n",
       "      <td>[0.1601780652999878, 0.09835605323314667, 0.14...</td>\n",
       "    </tr>\n",
       "    <tr>\n",
       "      <th>760</th>\n",
       "      <td>18</td>\n",
       "      <td>[0.08588746935129166, 0.06984598934650421, 0.1...</td>\n",
       "    </tr>\n",
       "    <tr>\n",
       "      <th>1704</th>\n",
       "      <td>19</td>\n",
       "      <td>[0.22176432609558105, 0.11638927459716797, 0.1...</td>\n",
       "    </tr>\n",
       "    <tr>\n",
       "      <th>1564</th>\n",
       "      <td>21</td>\n",
       "      <td>[0.13892701268196106, 0.07191691547632217, 0.1...</td>\n",
       "    </tr>\n",
       "    <tr>\n",
       "      <th>1539</th>\n",
       "      <td>23</td>\n",
       "      <td>[0.19157807528972626, 0.056652672588825226, 0....</td>\n",
       "    </tr>\n",
       "    <tr>\n",
       "      <th>1146</th>\n",
       "      <td>24</td>\n",
       "      <td>[0.17420771718025208, 0.07800880819559097, 0.1...</td>\n",
       "    </tr>\n",
       "    <tr>\n",
       "      <th>1707</th>\n",
       "      <td>26</td>\n",
       "      <td>[0.11452798545360565, 0.07673580199480057, 0.1...</td>\n",
       "    </tr>\n",
       "    <tr>\n",
       "      <th>1324</th>\n",
       "      <td>28</td>\n",
       "      <td>[0.1002090573310852, 0.05773220211267471, 0.13...</td>\n",
       "    </tr>\n",
       "    <tr>\n",
       "      <th>293</th>\n",
       "      <td>29</td>\n",
       "      <td>[0.16192859411239624, 0.08783867955207825, 0.1...</td>\n",
       "    </tr>\n",
       "    <tr>\n",
       "      <th>1586</th>\n",
       "      <td>32</td>\n",
       "      <td>[0.18155406415462494, 0.07008340209722519, 0.1...</td>\n",
       "    </tr>\n",
       "    <tr>\n",
       "      <th>4</th>\n",
       "      <td>35</td>\n",
       "      <td>[0.14124442636966705, 0.08204319328069687, 0.1...</td>\n",
       "    </tr>\n",
       "    <tr>\n",
       "      <th>1560</th>\n",
       "      <td>36</td>\n",
       "      <td>[0.159120112657547, 0.08368365466594696, 0.122...</td>\n",
       "    </tr>\n",
       "    <tr>\n",
       "      <th>1124</th>\n",
       "      <td>37</td>\n",
       "      <td>[0.1316986232995987, 0.06826658546924591, 0.14...</td>\n",
       "    </tr>\n",
       "    <tr>\n",
       "      <th>636</th>\n",
       "      <td>38</td>\n",
       "      <td>[0.13976705074310303, 0.10803331434726715, 0.1...</td>\n",
       "    </tr>\n",
       "    <tr>\n",
       "      <th>1488</th>\n",
       "      <td>39</td>\n",
       "      <td>[0.14414727687835693, 0.08568412810564041, 0.1...</td>\n",
       "    </tr>\n",
       "    <tr>\n",
       "      <th>1895</th>\n",
       "      <td>41</td>\n",
       "      <td>[0.16388832032680511, 0.08113797754049301, 0.0...</td>\n",
       "    </tr>\n",
       "    <tr>\n",
       "      <th>1846</th>\n",
       "      <td>48</td>\n",
       "      <td>[0.1002962738275528, 0.0828426405787468, 0.178...</td>\n",
       "    </tr>\n",
       "    <tr>\n",
       "      <th>1316</th>\n",
       "      <td>50</td>\n",
       "      <td>[0.173021137714386, 0.07198454439640045, 0.111...</td>\n",
       "    </tr>\n",
       "    <tr>\n",
       "      <th>714</th>\n",
       "      <td>51</td>\n",
       "      <td>[0.12341180443763733, 0.07427097111940384, 0.1...</td>\n",
       "    </tr>\n",
       "    <tr>\n",
       "      <th>1952</th>\n",
       "      <td>54</td>\n",
       "      <td>[0.1644326150417328, 0.06420235335826874, 0.10...</td>\n",
       "    </tr>\n",
       "    <tr>\n",
       "      <th>...</th>\n",
       "      <td>...</td>\n",
       "      <td>...</td>\n",
       "    </tr>\n",
       "    <tr>\n",
       "      <th>209</th>\n",
       "      <td>3932</td>\n",
       "      <td>[0.14459817111492157, 0.08017002046108246, 0.1...</td>\n",
       "    </tr>\n",
       "    <tr>\n",
       "      <th>1352</th>\n",
       "      <td>3936</td>\n",
       "      <td>[0.16110706329345703, 0.10986050218343735, 0.1...</td>\n",
       "    </tr>\n",
       "    <tr>\n",
       "      <th>376</th>\n",
       "      <td>3937</td>\n",
       "      <td>[0.15496858954429626, 0.08078056573867798, 0.1...</td>\n",
       "    </tr>\n",
       "    <tr>\n",
       "      <th>663</th>\n",
       "      <td>3938</td>\n",
       "      <td>[0.14399734139442444, 0.09917312115430832, 0.1...</td>\n",
       "    </tr>\n",
       "    <tr>\n",
       "      <th>1158</th>\n",
       "      <td>3941</td>\n",
       "      <td>[0.2019653469324112, 0.07015492022037506, 0.10...</td>\n",
       "    </tr>\n",
       "    <tr>\n",
       "      <th>1603</th>\n",
       "      <td>3943</td>\n",
       "      <td>[0.14950625598430634, 0.06830183416604996, 0.1...</td>\n",
       "    </tr>\n",
       "    <tr>\n",
       "      <th>449</th>\n",
       "      <td>3945</td>\n",
       "      <td>[0.20166777074337006, 0.09717432409524918, 0.1...</td>\n",
       "    </tr>\n",
       "    <tr>\n",
       "      <th>1563</th>\n",
       "      <td>3946</td>\n",
       "      <td>[0.10221824049949646, 0.054388538002967834, 0....</td>\n",
       "    </tr>\n",
       "    <tr>\n",
       "      <th>1345</th>\n",
       "      <td>3947</td>\n",
       "      <td>[0.14775744080543518, 0.09666591882705688, 0.1...</td>\n",
       "    </tr>\n",
       "    <tr>\n",
       "      <th>813</th>\n",
       "      <td>3952</td>\n",
       "      <td>[0.13831019401550293, 0.10143884271383286, 0.1...</td>\n",
       "    </tr>\n",
       "    <tr>\n",
       "      <th>1099</th>\n",
       "      <td>3954</td>\n",
       "      <td>[0.16150324046611786, 0.06856296211481094, 0.1...</td>\n",
       "    </tr>\n",
       "    <tr>\n",
       "      <th>126</th>\n",
       "      <td>3955</td>\n",
       "      <td>[0.194279745221138, 0.08386631309986115, 0.118...</td>\n",
       "    </tr>\n",
       "    <tr>\n",
       "      <th>734</th>\n",
       "      <td>3956</td>\n",
       "      <td>[0.14188934862613678, 0.09942970424890518, 0.1...</td>\n",
       "    </tr>\n",
       "    <tr>\n",
       "      <th>1624</th>\n",
       "      <td>3961</td>\n",
       "      <td>[0.09965112060308456, 0.06542997062206268, 0.1...</td>\n",
       "    </tr>\n",
       "    <tr>\n",
       "      <th>1252</th>\n",
       "      <td>3965</td>\n",
       "      <td>[0.1481657773256302, 0.09751784801483154, 0.15...</td>\n",
       "    </tr>\n",
       "    <tr>\n",
       "      <th>183</th>\n",
       "      <td>3971</td>\n",
       "      <td>[0.16221435368061066, 0.10045164078474045, 0.1...</td>\n",
       "    </tr>\n",
       "    <tr>\n",
       "      <th>1314</th>\n",
       "      <td>3973</td>\n",
       "      <td>[0.14553554356098175, 0.09269107133150101, 0.1...</td>\n",
       "    </tr>\n",
       "    <tr>\n",
       "      <th>1476</th>\n",
       "      <td>3979</td>\n",
       "      <td>[0.11532778292894363, 0.08229003846645355, 0.1...</td>\n",
       "    </tr>\n",
       "    <tr>\n",
       "      <th>542</th>\n",
       "      <td>3980</td>\n",
       "      <td>[0.14274290204048157, 0.07561076432466507, 0.1...</td>\n",
       "    </tr>\n",
       "    <tr>\n",
       "      <th>1493</th>\n",
       "      <td>3982</td>\n",
       "      <td>[0.13005591928958893, 0.08050645887851715, 0.1...</td>\n",
       "    </tr>\n",
       "    <tr>\n",
       "      <th>1920</th>\n",
       "      <td>3983</td>\n",
       "      <td>[0.10983846336603165, 0.06895636022090912, 0.1...</td>\n",
       "    </tr>\n",
       "    <tr>\n",
       "      <th>1421</th>\n",
       "      <td>3986</td>\n",
       "      <td>[0.18413779139518738, 0.07927791774272919, 0.1...</td>\n",
       "    </tr>\n",
       "    <tr>\n",
       "      <th>1162</th>\n",
       "      <td>3987</td>\n",
       "      <td>[0.17666314542293549, 0.08257566392421722, 0.1...</td>\n",
       "    </tr>\n",
       "    <tr>\n",
       "      <th>653</th>\n",
       "      <td>3988</td>\n",
       "      <td>[0.14055834710597992, 0.08360068500041962, 0.1...</td>\n",
       "    </tr>\n",
       "    <tr>\n",
       "      <th>1125</th>\n",
       "      <td>3989</td>\n",
       "      <td>[0.17566464841365814, 0.11720075458288193, 0.1...</td>\n",
       "    </tr>\n",
       "    <tr>\n",
       "      <th>1589</th>\n",
       "      <td>3992</td>\n",
       "      <td>[0.16928361356258392, 0.09846936166286469, 0.1...</td>\n",
       "    </tr>\n",
       "    <tr>\n",
       "      <th>1660</th>\n",
       "      <td>3994</td>\n",
       "      <td>[0.229977086186409, 0.08293721824884415, 0.094...</td>\n",
       "    </tr>\n",
       "    <tr>\n",
       "      <th>1420</th>\n",
       "      <td>3998</td>\n",
       "      <td>[0.1704636812210083, 0.09821037203073502, 0.13...</td>\n",
       "    </tr>\n",
       "    <tr>\n",
       "      <th>36</th>\n",
       "      <td>3999</td>\n",
       "      <td>[0.1660018265247345, 0.08141664415597916, 0.14...</td>\n",
       "    </tr>\n",
       "    <tr>\n",
       "      <th>1115</th>\n",
       "      <td>4000</td>\n",
       "      <td>[0.1560346782207489, 0.07345165312290192, 0.11...</td>\n",
       "    </tr>\n",
       "  </tbody>\n",
       "</table>\n",
       "<p>2000 rows × 2 columns</p>\n",
       "</div>"
      ],
      "text/plain": [
       "      business_id                                            feature\n",
       "1040            3  [0.15115895867347717, 0.0732259601354599, 0.11...\n",
       "1456            4  [0.1477070301771164, 0.06797164678573608, 0.13...\n",
       "342             5  [0.1602800190448761, 0.08416581153869629, 0.15...\n",
       "347             6  [0.12783241271972656, 0.09045923501253128, 0.1...\n",
       "1441            7  [0.15980949997901917, 0.07771550118923187, 0.1...\n",
       "154             8  [0.167060986161232, 0.05579552799463272, 0.133...\n",
       "799             9  [0.16387687623500824, 0.08138040453195572, 0.1...\n",
       "1360           12  [0.12542682886123657, 0.0736740306019783, 0.13...\n",
       "781            13  [0.1405954211950302, 0.0837753415107727, 0.115...\n",
       "1012           14  [0.16205096244812012, 0.07431483268737793, 0.1...\n",
       "940            16  [0.1601780652999878, 0.09835605323314667, 0.14...\n",
       "760            18  [0.08588746935129166, 0.06984598934650421, 0.1...\n",
       "1704           19  [0.22176432609558105, 0.11638927459716797, 0.1...\n",
       "1564           21  [0.13892701268196106, 0.07191691547632217, 0.1...\n",
       "1539           23  [0.19157807528972626, 0.056652672588825226, 0....\n",
       "1146           24  [0.17420771718025208, 0.07800880819559097, 0.1...\n",
       "1707           26  [0.11452798545360565, 0.07673580199480057, 0.1...\n",
       "1324           28  [0.1002090573310852, 0.05773220211267471, 0.13...\n",
       "293            29  [0.16192859411239624, 0.08783867955207825, 0.1...\n",
       "1586           32  [0.18155406415462494, 0.07008340209722519, 0.1...\n",
       "4              35  [0.14124442636966705, 0.08204319328069687, 0.1...\n",
       "1560           36  [0.159120112657547, 0.08368365466594696, 0.122...\n",
       "1124           37  [0.1316986232995987, 0.06826658546924591, 0.14...\n",
       "636            38  [0.13976705074310303, 0.10803331434726715, 0.1...\n",
       "1488           39  [0.14414727687835693, 0.08568412810564041, 0.1...\n",
       "1895           41  [0.16388832032680511, 0.08113797754049301, 0.0...\n",
       "1846           48  [0.1002962738275528, 0.0828426405787468, 0.178...\n",
       "1316           50  [0.173021137714386, 0.07198454439640045, 0.111...\n",
       "714            51  [0.12341180443763733, 0.07427097111940384, 0.1...\n",
       "1952           54  [0.1644326150417328, 0.06420235335826874, 0.10...\n",
       "...           ...                                                ...\n",
       "209          3932  [0.14459817111492157, 0.08017002046108246, 0.1...\n",
       "1352         3936  [0.16110706329345703, 0.10986050218343735, 0.1...\n",
       "376          3937  [0.15496858954429626, 0.08078056573867798, 0.1...\n",
       "663          3938  [0.14399734139442444, 0.09917312115430832, 0.1...\n",
       "1158         3941  [0.2019653469324112, 0.07015492022037506, 0.10...\n",
       "1603         3943  [0.14950625598430634, 0.06830183416604996, 0.1...\n",
       "449          3945  [0.20166777074337006, 0.09717432409524918, 0.1...\n",
       "1563         3946  [0.10221824049949646, 0.054388538002967834, 0....\n",
       "1345         3947  [0.14775744080543518, 0.09666591882705688, 0.1...\n",
       "813          3952  [0.13831019401550293, 0.10143884271383286, 0.1...\n",
       "1099         3954  [0.16150324046611786, 0.06856296211481094, 0.1...\n",
       "126          3955  [0.194279745221138, 0.08386631309986115, 0.118...\n",
       "734          3956  [0.14188934862613678, 0.09942970424890518, 0.1...\n",
       "1624         3961  [0.09965112060308456, 0.06542997062206268, 0.1...\n",
       "1252         3965  [0.1481657773256302, 0.09751784801483154, 0.15...\n",
       "183          3971  [0.16221435368061066, 0.10045164078474045, 0.1...\n",
       "1314         3973  [0.14553554356098175, 0.09269107133150101, 0.1...\n",
       "1476         3979  [0.11532778292894363, 0.08229003846645355, 0.1...\n",
       "542          3980  [0.14274290204048157, 0.07561076432466507, 0.1...\n",
       "1493         3982  [0.13005591928958893, 0.08050645887851715, 0.1...\n",
       "1920         3983  [0.10983846336603165, 0.06895636022090912, 0.1...\n",
       "1421         3986  [0.18413779139518738, 0.07927791774272919, 0.1...\n",
       "1162         3987  [0.17666314542293549, 0.08257566392421722, 0.1...\n",
       "653          3988  [0.14055834710597992, 0.08360068500041962, 0.1...\n",
       "1125         3989  [0.17566464841365814, 0.11720075458288193, 0.1...\n",
       "1589         3992  [0.16928361356258392, 0.09846936166286469, 0.1...\n",
       "1660         3994  [0.229977086186409, 0.08293721824884415, 0.094...\n",
       "1420         3998  [0.1704636812210083, 0.09821037203073502, 0.13...\n",
       "36           3999  [0.1660018265247345, 0.08141664415597916, 0.14...\n",
       "1115         4000  [0.1560346782207489, 0.07345165312290192, 0.11...\n",
       "\n",
       "[2000 rows x 2 columns]"
      ]
     },
     "execution_count": 8,
     "metadata": {},
     "output_type": "execute_result"
    }
   ],
   "source": [
    "df = df.sort_values(by='business_id')\n",
    "df"
   ]
  },
  {
   "cell_type": "code",
   "execution_count": 91,
   "metadata": {
    "collapsed": true
   },
   "outputs": [],
   "source": [
    "df = df.sort_values(by='business_id')\n",
    "label_df = label_df.sort_values(by='business_id')"
   ]
  },
  {
   "cell_type": "code",
   "execution_count": 132,
   "metadata": {
    "collapsed": true
   },
   "outputs": [],
   "source": [
    "#randomly breaking the dataset into 80:20 ratio for training and testing\n",
    "msk = np.random.rand(len(df)) < 0.8\n",
    "train_new_model = df[msk]\n",
    "test_new_model = df[~msk]\n",
    "label_train_new_model = label_df[msk]\n",
    "label_test_new_model = label_df[~msk]"
   ]
  },
  {
   "cell_type": "code",
   "execution_count": 133,
   "metadata": {
    "collapsed": true
   },
   "outputs": [],
   "source": [
    "def str_to_nplist(string):\n",
    "    string = string.replace(\"[\", \"\")\n",
    "    string = string.replace(\"]\", \"\")\n",
    "    string = string.split(',')\n",
    "    return np.asarray(string).astype(np.float32)"
   ]
  },
  {
   "cell_type": "code",
   "execution_count": 134,
   "metadata": {
    "scrolled": true
   },
   "outputs": [],
   "source": [
    "mean_features = np.asarray([str_to_nplist(i) for i in train_new_model['feature']])\n",
    "labels = label_train_new_model['labels'].values"
   ]
  },
  {
   "cell_type": "code",
   "execution_count": 135,
   "metadata": {
    "collapsed": true
   },
   "outputs": [],
   "source": [
    "mean_features_test = np.asarray([str_to_nplist(i) for i in test_new_model['feature']])\n",
    "labels_test = label_test_new_model['labels'].values"
   ]
  },
  {
   "cell_type": "code",
   "execution_count": 136,
   "metadata": {
    "collapsed": true
   },
   "outputs": [],
   "source": [
    "X = mean_features\n",
    "Y = labels"
   ]
  },
  {
   "cell_type": "code",
   "execution_count": 137,
   "metadata": {
    "collapsed": true
   },
   "outputs": [],
   "source": [
    "label_binarizer = MultiLabelBinarizer()"
   ]
  },
  {
   "cell_type": "code",
   "execution_count": 138,
   "metadata": {
    "collapsed": true
   },
   "outputs": [],
   "source": [
    "def convertlabelsfromString(s, ind):\n",
    "    if type(s) == str:\n",
    "        s = s.split(\" \")\n",
    "        s = [int(x) for x in s]\n",
    "        return s\n",
    "    else:\n",
    "        return []"
   ]
  },
  {
   "cell_type": "code",
   "execution_count": 139,
   "metadata": {
    "collapsed": true
   },
   "outputs": [],
   "source": [
    "Y = [convertlabelsfromString(Y[i],i) for i in range(Y.shape[0])]"
   ]
  },
  {
   "cell_type": "code",
   "execution_count": 140,
   "metadata": {},
   "outputs": [],
   "source": [
    "Y = label_binarizer.fit_transform(Y)"
   ]
  },
  {
   "cell_type": "code",
   "execution_count": 141,
   "metadata": {},
   "outputs": [
    {
     "data": {
      "text/plain": [
       "(1579, 2048)"
      ]
     },
     "execution_count": 141,
     "metadata": {},
     "output_type": "execute_result"
    }
   ],
   "source": [
    "X.shape"
   ]
  },
  {
   "cell_type": "code",
   "execution_count": 142,
   "metadata": {},
   "outputs": [
    {
     "data": {
      "text/plain": [
       "OneVsRestClassifier(estimator=SVC(C=1.0, cache_size=200, class_weight=None, coef0=0.0,\n",
       "  decision_function_shape=None, degree=3, gamma='auto', kernel='linear',\n",
       "  max_iter=-1, probability=False, random_state=None, shrinking=True,\n",
       "  tol=0.001, verbose=False),\n",
       "          n_jobs=1)"
      ]
     },
     "execution_count": 142,
     "metadata": {},
     "output_type": "execute_result"
    }
   ],
   "source": [
    "classifier = OneVsRestClassifier(svm.SVC(kernel='linear'))\n",
    "classifier.fit(X, Y)"
   ]
  },
  {
   "cell_type": "code",
   "execution_count": 143,
   "metadata": {},
   "outputs": [],
   "source": [
    "asd = classifier.predict(mean_features_test)\n",
    "qwe = label_binarizer.inverse_transform(asd)"
   ]
  },
  {
   "cell_type": "code",
   "execution_count": 144,
   "metadata": {},
   "outputs": [
    {
     "data": {
      "text/plain": [
       "(421, 9)"
      ]
     },
     "execution_count": 144,
     "metadata": {},
     "output_type": "execute_result"
    }
   ],
   "source": [
    "asd.shape"
   ]
  },
  {
   "cell_type": "code",
   "execution_count": 145,
   "metadata": {},
   "outputs": [],
   "source": [
    "qwe = label_binarizer.fit_transform(qwe)"
   ]
  },
  {
   "cell_type": "code",
   "execution_count": 146,
   "metadata": {},
   "outputs": [],
   "source": [
    "Y1 = [convertlabelsfromString(labels_test[i],i) for i in range(labels_test.shape[0])]"
   ]
  },
  {
   "cell_type": "code",
   "execution_count": 147,
   "metadata": {},
   "outputs": [],
   "source": [
    "Y1 = label_binarizer.fit_transform(Y1)"
   ]
  },
  {
   "cell_type": "code",
   "execution_count": 150,
   "metadata": {},
   "outputs": [
    {
     "data": {
      "text/plain": [
       "0.70242622000345856"
      ]
     },
     "execution_count": 150,
     "metadata": {},
     "output_type": "execute_result"
    }
   ],
   "source": [
    "f1_score(Y1,qwe,average='macro')"
   ]
  },
  {
   "cell_type": "code",
   "execution_count": null,
   "metadata": {
    "collapsed": true
   },
   "outputs": [],
   "source": []
  }
 ],
 "metadata": {
  "kernelspec": {
   "display_name": "Python 3",
   "language": "python",
   "name": "python3"
  },
  "language_info": {
   "codemirror_mode": {
    "name": "ipython",
    "version": 3
   },
   "file_extension": ".py",
   "mimetype": "text/x-python",
   "name": "python",
   "nbconvert_exporter": "python",
   "pygments_lexer": "ipython3",
   "version": "3.6.1"
  }
 },
 "nbformat": 4,
 "nbformat_minor": 2
}
