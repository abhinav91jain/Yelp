{
 "cells": [
  {
   "cell_type": "markdown",
   "metadata": {},
   "source": [
    "## GENERATE LABELS FOR SPLIT TRAINING DATA"
   ]
  },
  {
   "cell_type": "code",
   "execution_count": 1,
   "metadata": {
    "collapsed": true
   },
   "outputs": [],
   "source": [
    "#imports\n",
    "import csv\n",
    "from sklearn.preprocessing import MultiLabelBinarizer\n",
    "import pandas as pd\n",
    "import numpy as np\n",
    "from sklearn import svm\n",
    "from sklearn.multiclass import OneVsRestClassifier\n",
    "from sklearn.metrics import f1_score\n",
    "import matplotlib.pyplot as plt"
   ]
  },
  {
   "cell_type": "code",
   "execution_count": 2,
   "metadata": {
    "collapsed": true
   },
   "outputs": [],
   "source": [
    "#reading the data\n",
    "train_data = pd.read_csv('../train_data/bizfeatures_meanfeature.csv')\n",
    "train_label_df = pd.read_csv('train.csv')\n",
    "test_data = pd.read_csv('../test_data/bizfeaturestest_meanfeature.csv')"
   ]
  },
  {
   "cell_type": "code",
   "execution_count": 3,
   "metadata": {
    "collapsed": true
   },
   "outputs": [],
   "source": [
    "#sorting the values of data\n",
    "train_data = train_data.sort_values(by='business_id')\n",
    "train_label_df = train_label_df.sort_values(by='business_id')\n",
    "test_data = test_data.sort_values(by='business_id')"
   ]
  },
  {
   "cell_type": "code",
   "execution_count": 4,
   "metadata": {
    "collapsed": true
   },
   "outputs": [],
   "source": [
    "#converting the string to list\n",
    "def str_to_nplist(string):\n",
    "    string = string.replace(\"[\", \"\")\n",
    "    string = string.replace(\"]\", \"\")\n",
    "    string = string.split(',')\n",
    "    return np.asarray(string).astype(np.float32)"
   ]
  },
  {
   "cell_type": "code",
   "execution_count": 5,
   "metadata": {
    "collapsed": true
   },
   "outputs": [],
   "source": [
    "#converting to labels from string\n",
    "def convertlabelsfromString(s, ind):\n",
    "    if type(s) == str:\n",
    "        s = s.split(\" \")\n",
    "        s = [int(x) for x in s]\n",
    "        return s\n",
    "    else:\n",
    "        return []"
   ]
  },
  {
   "cell_type": "code",
   "execution_count": 6,
   "metadata": {
    "collapsed": true
   },
   "outputs": [],
   "source": [
    "#randomly breaking the dataset into 80:20 ratio for training and testing\n",
    "msk = np.random.rand(len(train_data)) < 0.8\n",
    "train_new_model = train_data[msk]\n",
    "test_new_model = train_data[~msk]\n",
    "label_train_new_model = train_label_df[msk]\n",
    "label_test_new_model = train_label_df[~msk]"
   ]
  },
  {
   "cell_type": "code",
   "execution_count": 7,
   "metadata": {
    "collapsed": true
   },
   "outputs": [],
   "source": [
    "#extracting features and labels from data\n",
    "mean_features = np.asarray([str_to_nplist(i) for i in train_new_model['feature']])\n",
    "labels = label_train_new_model['labels'].values\n",
    "mean_features_test = np.asarray([str_to_nplist(i) for i in test_new_model['feature']])\n",
    "labels_test = label_test_new_model['labels'].values"
   ]
  },
  {
   "cell_type": "code",
   "execution_count": 8,
   "metadata": {
    "collapsed": true
   },
   "outputs": [],
   "source": [
    "#setting the label binarizer\n",
    "X = mean_features\n",
    "Y = labels\n",
    "label_binarizer = MultiLabelBinarizer()"
   ]
  },
  {
   "cell_type": "code",
   "execution_count": 9,
   "metadata": {
    "collapsed": true
   },
   "outputs": [],
   "source": [
    "#converting Y into required format\n",
    "Y = [convertlabelsfromString(Y[i],i) for i in range(Y.shape[0])]\n",
    "Y = label_binarizer.fit_transform(Y)"
   ]
  },
  {
   "cell_type": "code",
   "execution_count": 10,
   "metadata": {
    "collapsed": true
   },
   "outputs": [],
   "source": [
    "#fitting the SVM model and predicting\n",
    "classifier = OneVsRestClassifier(svm.SVC(kernel='linear'))\n",
    "classifier.fit(X, Y)\n",
    "prediction = classifier.predict(mean_features_test)"
   ]
  },
  {
   "cell_type": "code",
   "execution_count": 11,
   "metadata": {
    "collapsed": true
   },
   "outputs": [],
   "source": [
    "values = label_binarizer.inverse_transform(prediction)\n",
    "inv_values = label_binarizer.fit_transform(values)"
   ]
  },
  {
   "cell_type": "code",
   "execution_count": 12,
   "metadata": {
    "collapsed": true
   },
   "outputs": [],
   "source": [
    "Y1 = [convertlabelsfromString(labels_test[i],i) for i in range(labels_test.shape[0])]\n",
    "Y1 = label_binarizer.fit_transform(Y1)"
   ]
  },
  {
   "cell_type": "code",
   "execution_count": 13,
   "metadata": {},
   "outputs": [
    {
     "data": {
      "text/plain": [
       "0.73387601753287401"
      ]
     },
     "execution_count": 13,
     "metadata": {},
     "output_type": "execute_result"
    }
   ],
   "source": [
    "#F1 score\n",
    "f1_score(Y1,inv_values,average='micro')"
   ]
  },
  {
   "cell_type": "markdown",
   "metadata": {},
   "source": [
    "## GENERATE LABELS FOR TEST DATA"
   ]
  },
  {
   "cell_type": "code",
   "execution_count": 14,
   "metadata": {
    "collapsed": true
   },
   "outputs": [],
   "source": [
    "#reading features and labels from data\n",
    "mean_features_train = np.asarray([str_to_nplist(i) for i in train_data['feature']])\n",
    "labels_train = train_label_df['labels'].values\n",
    "mean_features_test = np.asarray([str_to_nplist(i) for i in test_data['feature']])"
   ]
  },
  {
   "cell_type": "code",
   "execution_count": 15,
   "metadata": {
    "collapsed": true
   },
   "outputs": [],
   "source": [
    "#setting labels binarizer\n",
    "X = mean_features_train\n",
    "Y = labels_train\n",
    "label_binarizer = MultiLabelBinarizer()"
   ]
  },
  {
   "cell_type": "code",
   "execution_count": 16,
   "metadata": {
    "collapsed": true
   },
   "outputs": [],
   "source": [
    "Y = [convertlabelsfromString(Y[i],i) for i in range(Y.shape[0])]\n",
    "Y = label_binarizer.fit_transform(Y)"
   ]
  },
  {
   "cell_type": "code",
   "execution_count": 17,
   "metadata": {
    "collapsed": true
   },
   "outputs": [],
   "source": [
    "#fitting SVM model\n",
    "classifier = OneVsRestClassifier(svm.SVC(kernel='linear'))\n",
    "classifier.fit(X, Y)\n",
    "prediction = classifier.predict(mean_features_test)"
   ]
  },
  {
   "cell_type": "code",
   "execution_count": 18,
   "metadata": {
    "collapsed": true
   },
   "outputs": [],
   "source": [
    "values = label_binarizer.inverse_transform(prediction)\n",
    "inv_values = label_binarizer.fit_transform(values)"
   ]
  },
  {
   "cell_type": "code",
   "execution_count": 19,
   "metadata": {},
   "outputs": [
    {
     "data": {
      "image/png": "[encoded data removed]",
      "text/plain": [
       "<matplotlib.figure.Figure at 0x11b4a68d0>"
      ]
     },
     "metadata": {},
     "output_type": "display_data"
    }
   ],
   "source": [
    "#counting the each label count\n",
    "d = dict()\n",
    "for i in range(0,len(values)):\n",
    "    for j in range(0,len(values[i])):\n",
    "        if values[i][j] in d.keys():\n",
    "            d[values[i][j]] +=1\n",
    "        else:\n",
    "            d[values[i][j]] = 1\n",
    "\n",
    "#sorting dictionary values\n",
    "a = []\n",
    "b = []\n",
    "for key, value in sorted(d.items()):\n",
    "    a.append(key)\n",
    "    b.append(value)\n",
    "\n",
    "a = np.array(a)\n",
    "b = np.array(b)\n",
    "\n",
    "#plotting graph\n",
    "N = len(a)\n",
    "business_count = b\n",
    "\n",
    "ind = np.arange(N)  # the x locations for the groups\n",
    "width = 0.5       # the width of the bars\n",
    "\n",
    "fig, ax = plt.subplots()\n",
    "rects1 = ax.bar(ind, business_count, width, color='b')\n",
    "ax.set_ylabel('Business ID Count')\n",
    "ax.set_xlabel('Labels')\n",
    "ax.set_xticks(ind + width / 32)\n",
    "ax.set_xticklabels(a)\n",
    "plt.show()"
   ]
  }
 ],
 "metadata": {
  "kernelspec": {
   "display_name": "Python 3",
   "language": "python",
   "name": "python3"
  },
  "language_info": {
   "codemirror_mode": {
    "name": "ipython",
    "version": 3
   },
   "file_extension": ".py",
   "mimetype": "text/x-python",
   "name": "python",
   "nbconvert_exporter": "python",
   "pygments_lexer": "ipython3",
   "version": "3.6.1"
  }
 },
 "nbformat": 4,
 "nbformat_minor": 2
}
