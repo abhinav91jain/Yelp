{
 "cells": [
  {
   "cell_type": "code",
   "execution_count": 5,
   "metadata": {
    "collapsed": true
   },
   "outputs": [],
   "source": [
    "# Imports!\n",
    "import sys\n",
    "import os\n",
    "import numpy as np\n",
    "from skimage.feature import hog\n",
    "from skimage.transform import resize\n",
    "from skimage import io, data, color, exposure\n",
    "import pandas as pd\n",
    "import csv\n",
    "import cv2"
   ]
  },
  {
   "cell_type": "code",
   "execution_count": 6,
   "metadata": {
    "collapsed": true
   },
   "outputs": [],
   "source": [
    "data = pd.read_csv(\"../train_photo_to_biz_ids.csv\")"
   ]
  },
  {
   "cell_type": "code",
   "execution_count": null,
   "metadata": {},
   "outputs": [],
   "source": [
    "mean_list=[]\n",
    "cnt = 0\n",
    "for feature_data in pd.read_csv(\"../train_data/train_feature.csv\", chunksize=10000):\n",
    "    cnt += 10000 \n",
    "    for photo_id, business_id in data.iterrows():\n",
    "        for imageid,features in feature_data.iterrows():\n",
    "            if(photo_id==imageid):\n",
    "                mean_list.append((business_id[1],(features[1].replace('[',\"\").replace(']',\"\").split(\",\"))))\n",
    "    if cnt%10000 == 0:\n",
    "        print(cnt,\" :done\")"
   ]
  },
  {
   "cell_type": "code",
   "execution_count": null,
   "metadata": {
    "collapsed": true
   },
   "outputs": [],
   "source": [
    "list1=np.zeros(2048)\n",
    "mean_vector=dict()\n",
    "mean_counter=dict()\n",
    "for business_id,features in mean_list:\n",
    "    if business_id in mean_vector.keys():\n",
    "        features=np.asarray(features).astype(np.float32)\n",
    "        mean_vector[business_id]=np.add(mean_vector[business_id], features)\n",
    "        mean_counter[business_id] +=1\n",
    "    else:\n",
    "        features=np.asarray(features).astype(np.float32)\n",
    "        mean_vector[business_id]=features\n",
    "        mean_counter[business_id] = 1\n",
    "        \n",
    "for k in mean_vector:\n",
    "    mean_vector[k] /= mean_counter[k]"
   ]
  },
  {
   "cell_type": "code",
   "execution_count": null,
   "metadata": {
    "collapsed": true
   },
   "outputs": [],
   "source": [
    "with open(r\"../train_data/bizfeatures_meanfeature.csv\", \"w\") as csv_file:\n",
    "    writer = csv.writer(csv_file, delimiter =\",\",quoting=csv.QUOTE_MINIMAL)\n",
    "    writer.writerow([\"business_id\", \"feature\"])\n",
    "    for key, value in mean_vector.items():\n",
    "        writer.writerow([key, value.tolist()])"
   ]
  }
 ],
 "metadata": {
  "kernelspec": {
   "display_name": "Python 3",
   "language": "python",
   "name": "python3"
  },
  "language_info": {
   "codemirror_mode": {
    "name": "ipython",
    "version": 3
   },
   "file_extension": ".py",
   "mimetype": "text/x-python",
   "name": "python",
   "nbconvert_exporter": "python",
   "pygments_lexer": "ipython3",
   "version": "3.6.1"
  }
 },
 "nbformat": 4,
 "nbformat_minor": 2
}
