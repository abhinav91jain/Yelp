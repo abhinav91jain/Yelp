{
 "cells": [
  {
   "cell_type": "markdown",
   "metadata": {},
   "source": [
    "# Business Feature Extraction Using CNN"
   ]
  },
  {
   "cell_type": "code",
   "execution_count": 1,
   "metadata": {
    "collapsed": true
   },
   "outputs": [],
   "source": [
    "# Imports\n",
    "import sys\n",
    "import os\n",
    "import numpy as np\n",
    "from skimage.feature import hog\n",
    "from skimage.transform import resize\n",
    "from skimage import io, data, color, exposure\n",
    "import pandas as pd\n",
    "import csv\n",
    "import cv2"
   ]
  },
  {
   "cell_type": "code",
   "execution_count": 2,
   "metadata": {
    "collapsed": true
   },
   "outputs": [],
   "source": [
    "#reading csv file\n",
    "data = pd.read_csv(\"../train_photo_to_biz_ids.csv\")\n",
    "#mapping each photos to business id dictionary\n",
    "data_dict=dict()\n",
    "for photo_id, business_id in data.iterrows():\n",
    "        data_dict[business_id.tolist()[0]] = business_id.tolist()[1]"
   ]
  },
  {
   "cell_type": "code",
   "execution_count": 3,
   "metadata": {},
   "outputs": [
    {
     "name": "stdout",
     "output_type": "stream",
     "text": [
      "5000  :done\n",
      "10000  :done\n",
      "15000  :done\n",
      "20000  :done\n",
      "25000  :done\n",
      "30000  :done\n",
      "35000  :done\n",
      "40000  :done\n",
      "45000  :done\n",
      "50000  :done\n",
      "55000  :done\n",
      "60000  :done\n",
      "65000  :done\n",
      "70000  :done\n",
      "75000  :done\n",
      "80000  :done\n",
      "85000  :done\n",
      "90000  :done\n",
      "95000  :done\n",
      "100000  :done\n",
      "105000  :done\n",
      "110000  :done\n",
      "115000  :done\n",
      "120000  :done\n",
      "125000  :done\n",
      "130000  :done\n",
      "135000  :done\n",
      "140000  :done\n",
      "145000  :done\n",
      "150000  :done\n",
      "155000  :done\n",
      "160000  :done\n",
      "165000  :done\n",
      "170000  :done\n",
      "175000  :done\n",
      "180000  :done\n",
      "185000  :done\n",
      "190000  :done\n",
      "195000  :done\n",
      "200000  :done\n",
      "205000  :done\n",
      "210000  :done\n",
      "215000  :done\n",
      "220000  :done\n",
      "225000  :done\n",
      "230000  :done\n",
      "235000  :done\n"
     ]
    }
   ],
   "source": [
    "#reading file chunk by chunk\n",
    "#extracting features for each image\n",
    "#adding it to its business feature \n",
    "#taking mean of each business id feature\n",
    "mean_list=[]\n",
    "cnt = 0\n",
    "chunk_size = 5000\n",
    "mean_vector=dict()\n",
    "mean_counter=dict()\n",
    "for feature_data in pd.read_csv(\"../train_data/train_feature_CNN.csv\", chunksize=chunk_size):\n",
    "    cnt += chunk_size\n",
    "    for imageid,features in feature_data.iterrows():\n",
    "        business_id = data_dict[features.tolist()[0]]\n",
    "        if business_id in mean_vector.keys():\n",
    "            features=np.asarray(features.tolist()[1].replace(\"[\", \"\").replace(\"]\", \"\").split(',')).astype(np.float32)\n",
    "            mean_vector[business_id]=np.add(mean_vector[business_id], features)\n",
    "            mean_counter[business_id] +=1\n",
    "        else:\n",
    "            features=np.asarray(features.tolist()[1].replace(\"[\", \"\").replace(\"]\", \"\").split(',')).astype(np.float32)\n",
    "            mean_vector[business_id]=features\n",
    "            mean_counter[business_id] = 1\n",
    "    if cnt%chunk_size == 0:\n",
    "        print(cnt,\" :done\")\n",
    "for k in mean_vector:\n",
    "    mean_vector[k] /= mean_counter[k]"
   ]
  },
  {
   "cell_type": "code",
   "execution_count": 4,
   "metadata": {
    "collapsed": true
   },
   "outputs": [],
   "source": [
    "#writting business feature to file\n",
    "with open(r\"../train_data/bizfeatures_meanfeature_CNN.csv\", \"w\") as csv_file:\n",
    "    writer = csv.writer(csv_file, delimiter =\",\",quoting=csv.QUOTE_MINIMAL)\n",
    "    writer.writerow([\"business_id\", \"feature\"])\n",
    "    for key, value in mean_vector.items():\n",
    "        writer.writerow([key, value.tolist()])"
   ]
  }
 ],
 "metadata": {
  "kernelspec": {
   "display_name": "Python 3",
   "language": "python",
   "name": "python3"
  },
  "language_info": {
   "codemirror_mode": {
    "name": "ipython",
    "version": 3
   },
   "file_extension": ".py",
   "mimetype": "text/x-python",
   "name": "python",
   "nbconvert_exporter": "python",
   "pygments_lexer": "ipython3",
   "version": "3.6.1"
  }
 },
 "nbformat": 4,
 "nbformat_minor": 2
}
